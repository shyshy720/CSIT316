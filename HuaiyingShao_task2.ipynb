{
  "nbformat": 4,
  "nbformat_minor": 0,
  "metadata": {
    "colab": {
      "provenance": []
    },
    "kernelspec": {
      "name": "python3",
      "display_name": "Python 3"
    },
    "language_info": {
      "name": "python"
    }
  },
  "cells": [
    {
      "cell_type": "markdown",
      "source": [
        "Student Name: Huaiying Shao\n",
        "\n",
        "UOW ID: 7910356"
      ],
      "metadata": {
        "id": "Y21s2XUDwh7M"
      }
    },
    {
      "cell_type": "markdown",
      "source": [
        "## Import Libraries"
      ],
      "metadata": {
        "id": "X34nxLDAwY-k"
      }
    },
    {
      "cell_type": "code",
      "execution_count": null,
      "metadata": {
        "id": "TMt54SMABpCK"
      },
      "outputs": [],
      "source": [
        "import numpy as np\n",
        "import pandas as pd\n",
        "import matplotlib.pyplot as plt\n",
        "\n",
        "# Sklearn dependencies\n",
        "from sklearn.preprocessing import LabelEncoder, StandardScaler\n",
        "from sklearn.model_selection import train_test_split, GridSearchCV\n",
        "from sklearn.base import BaseEstimator, ClassifierMixin\n",
        "from sklearn.metrics import accuracy_score\n",
        "\n",
        "# Tensorflow dependencies\n",
        "import tensorflow as tf\n",
        "from tensorflow.keras.layers import *\n",
        "from tensorflow.keras.optimizers import Adam\n",
        "from tensorflow.keras import backend as K\n",
        "from tensorflow.keras.callbacks import EarlyStopping, ModelCheckpoint\n",
        "from tensorflow.keras import regularizers\n",
        "from tensorflow.keras.losses import SparseCategoricalCrossentropy\n",
        "from tensorflow.keras.metrics import SparseCategoricalAccuracy\n",
        "from tensorflow.keras.models import Model"
      ]
    },
    {
      "cell_type": "markdown",
      "source": [
        "## Load dataset, explore data"
      ],
      "metadata": {
        "id": "5xLygqxWwwe_"
      }
    },
    {
      "cell_type": "code",
      "source": [
        "# Mount to Google Drive\n",
        "from google.colab import drive\n",
        "drive.mount(\"/content/drive\")"
      ],
      "metadata": {
        "colab": {
          "base_uri": "https://localhost:8080/"
        },
        "id": "dotvoaPkDSDr",
        "outputId": "84cfefe3-36dd-4986-d937-fabc0ac89a4d"
      },
      "execution_count": null,
      "outputs": [
        {
          "output_type": "stream",
          "name": "stdout",
          "text": [
            "Mounted at /content/drive\n"
          ]
        }
      ]
    },
    {
      "cell_type": "code",
      "source": [
        "# read in dataset\n",
        "path = \"/content/drive/MyDrive/dataset/secondary_data.csv\"\n",
        "data = pd.read_csv(path, sep=';')\n",
        "# view the first five data\n",
        "data.head()"
      ],
      "metadata": {
        "colab": {
          "base_uri": "https://localhost:8080/",
          "height": 307
        },
        "id": "_TbYJLW6DYWk",
        "outputId": "ded9291d-5623-4192-fb5f-5b9b92370d1c"
      },
      "execution_count": null,
      "outputs": [
        {
          "output_type": "execute_result",
          "data": {
            "text/plain": [
              "  class  cap-diameter cap-shape cap-surface cap-color does-bruise-or-bleed  \\\n",
              "0     p         15.26         x           g         o                    f   \n",
              "1     p         16.60         x           g         o                    f   \n",
              "2     p         14.07         x           g         o                    f   \n",
              "3     p         14.17         f           h         e                    f   \n",
              "4     p         14.64         x           h         o                    f   \n",
              "\n",
              "  gill-attachment gill-spacing gill-color  stem-height  ...  stem-root  \\\n",
              "0               e          NaN          w        16.95  ...          s   \n",
              "1               e          NaN          w        17.99  ...          s   \n",
              "2               e          NaN          w        17.80  ...          s   \n",
              "3               e          NaN          w        15.77  ...          s   \n",
              "4               e          NaN          w        16.53  ...          s   \n",
              "\n",
              "  stem-surface stem-color veil-type veil-color has-ring ring-type  \\\n",
              "0            y          w         u          w        t         g   \n",
              "1            y          w         u          w        t         g   \n",
              "2            y          w         u          w        t         g   \n",
              "3            y          w         u          w        t         p   \n",
              "4            y          w         u          w        t         p   \n",
              "\n",
              "  spore-print-color habitat season  \n",
              "0               NaN       d      w  \n",
              "1               NaN       d      u  \n",
              "2               NaN       d      w  \n",
              "3               NaN       d      w  \n",
              "4               NaN       d      w  \n",
              "\n",
              "[5 rows x 21 columns]"
            ],
            "text/html": [
              "\n",
              "  <div id=\"df-907241b1-4690-49d6-8c48-5171fee15db0\" class=\"colab-df-container\">\n",
              "    <div>\n",
              "<style scoped>\n",
              "    .dataframe tbody tr th:only-of-type {\n",
              "        vertical-align: middle;\n",
              "    }\n",
              "\n",
              "    .dataframe tbody tr th {\n",
              "        vertical-align: top;\n",
              "    }\n",
              "\n",
              "    .dataframe thead th {\n",
              "        text-align: right;\n",
              "    }\n",
              "</style>\n",
              "<table border=\"1\" class=\"dataframe\">\n",
              "  <thead>\n",
              "    <tr style=\"text-align: right;\">\n",
              "      <th></th>\n",
              "      <th>class</th>\n",
              "      <th>cap-diameter</th>\n",
              "      <th>cap-shape</th>\n",
              "      <th>cap-surface</th>\n",
              "      <th>cap-color</th>\n",
              "      <th>does-bruise-or-bleed</th>\n",
              "      <th>gill-attachment</th>\n",
              "      <th>gill-spacing</th>\n",
              "      <th>gill-color</th>\n",
              "      <th>stem-height</th>\n",
              "      <th>...</th>\n",
              "      <th>stem-root</th>\n",
              "      <th>stem-surface</th>\n",
              "      <th>stem-color</th>\n",
              "      <th>veil-type</th>\n",
              "      <th>veil-color</th>\n",
              "      <th>has-ring</th>\n",
              "      <th>ring-type</th>\n",
              "      <th>spore-print-color</th>\n",
              "      <th>habitat</th>\n",
              "      <th>season</th>\n",
              "    </tr>\n",
              "  </thead>\n",
              "  <tbody>\n",
              "    <tr>\n",
              "      <th>0</th>\n",
              "      <td>p</td>\n",
              "      <td>15.26</td>\n",
              "      <td>x</td>\n",
              "      <td>g</td>\n",
              "      <td>o</td>\n",
              "      <td>f</td>\n",
              "      <td>e</td>\n",
              "      <td>NaN</td>\n",
              "      <td>w</td>\n",
              "      <td>16.95</td>\n",
              "      <td>...</td>\n",
              "      <td>s</td>\n",
              "      <td>y</td>\n",
              "      <td>w</td>\n",
              "      <td>u</td>\n",
              "      <td>w</td>\n",
              "      <td>t</td>\n",
              "      <td>g</td>\n",
              "      <td>NaN</td>\n",
              "      <td>d</td>\n",
              "      <td>w</td>\n",
              "    </tr>\n",
              "    <tr>\n",
              "      <th>1</th>\n",
              "      <td>p</td>\n",
              "      <td>16.60</td>\n",
              "      <td>x</td>\n",
              "      <td>g</td>\n",
              "      <td>o</td>\n",
              "      <td>f</td>\n",
              "      <td>e</td>\n",
              "      <td>NaN</td>\n",
              "      <td>w</td>\n",
              "      <td>17.99</td>\n",
              "      <td>...</td>\n",
              "      <td>s</td>\n",
              "      <td>y</td>\n",
              "      <td>w</td>\n",
              "      <td>u</td>\n",
              "      <td>w</td>\n",
              "      <td>t</td>\n",
              "      <td>g</td>\n",
              "      <td>NaN</td>\n",
              "      <td>d</td>\n",
              "      <td>u</td>\n",
              "    </tr>\n",
              "    <tr>\n",
              "      <th>2</th>\n",
              "      <td>p</td>\n",
              "      <td>14.07</td>\n",
              "      <td>x</td>\n",
              "      <td>g</td>\n",
              "      <td>o</td>\n",
              "      <td>f</td>\n",
              "      <td>e</td>\n",
              "      <td>NaN</td>\n",
              "      <td>w</td>\n",
              "      <td>17.80</td>\n",
              "      <td>...</td>\n",
              "      <td>s</td>\n",
              "      <td>y</td>\n",
              "      <td>w</td>\n",
              "      <td>u</td>\n",
              "      <td>w</td>\n",
              "      <td>t</td>\n",
              "      <td>g</td>\n",
              "      <td>NaN</td>\n",
              "      <td>d</td>\n",
              "      <td>w</td>\n",
              "    </tr>\n",
              "    <tr>\n",
              "      <th>3</th>\n",
              "      <td>p</td>\n",
              "      <td>14.17</td>\n",
              "      <td>f</td>\n",
              "      <td>h</td>\n",
              "      <td>e</td>\n",
              "      <td>f</td>\n",
              "      <td>e</td>\n",
              "      <td>NaN</td>\n",
              "      <td>w</td>\n",
              "      <td>15.77</td>\n",
              "      <td>...</td>\n",
              "      <td>s</td>\n",
              "      <td>y</td>\n",
              "      <td>w</td>\n",
              "      <td>u</td>\n",
              "      <td>w</td>\n",
              "      <td>t</td>\n",
              "      <td>p</td>\n",
              "      <td>NaN</td>\n",
              "      <td>d</td>\n",
              "      <td>w</td>\n",
              "    </tr>\n",
              "    <tr>\n",
              "      <th>4</th>\n",
              "      <td>p</td>\n",
              "      <td>14.64</td>\n",
              "      <td>x</td>\n",
              "      <td>h</td>\n",
              "      <td>o</td>\n",
              "      <td>f</td>\n",
              "      <td>e</td>\n",
              "      <td>NaN</td>\n",
              "      <td>w</td>\n",
              "      <td>16.53</td>\n",
              "      <td>...</td>\n",
              "      <td>s</td>\n",
              "      <td>y</td>\n",
              "      <td>w</td>\n",
              "      <td>u</td>\n",
              "      <td>w</td>\n",
              "      <td>t</td>\n",
              "      <td>p</td>\n",
              "      <td>NaN</td>\n",
              "      <td>d</td>\n",
              "      <td>w</td>\n",
              "    </tr>\n",
              "  </tbody>\n",
              "</table>\n",
              "<p>5 rows × 21 columns</p>\n",
              "</div>\n",
              "    <div class=\"colab-df-buttons\">\n",
              "\n",
              "  <div class=\"colab-df-container\">\n",
              "    <button class=\"colab-df-convert\" onclick=\"convertToInteractive('df-907241b1-4690-49d6-8c48-5171fee15db0')\"\n",
              "            title=\"Convert this dataframe to an interactive table.\"\n",
              "            style=\"display:none;\">\n",
              "\n",
              "  <svg xmlns=\"http://www.w3.org/2000/svg\" height=\"24px\" viewBox=\"0 -960 960 960\">\n",
              "    <path d=\"M120-120v-720h720v720H120Zm60-500h600v-160H180v160Zm220 220h160v-160H400v160Zm0 220h160v-160H400v160ZM180-400h160v-160H180v160Zm440 0h160v-160H620v160ZM180-180h160v-160H180v160Zm440 0h160v-160H620v160Z\"/>\n",
              "  </svg>\n",
              "    </button>\n",
              "\n",
              "  <style>\n",
              "    .colab-df-container {\n",
              "      display:flex;\n",
              "      gap: 12px;\n",
              "    }\n",
              "\n",
              "    .colab-df-convert {\n",
              "      background-color: #E8F0FE;\n",
              "      border: none;\n",
              "      border-radius: 50%;\n",
              "      cursor: pointer;\n",
              "      display: none;\n",
              "      fill: #1967D2;\n",
              "      height: 32px;\n",
              "      padding: 0 0 0 0;\n",
              "      width: 32px;\n",
              "    }\n",
              "\n",
              "    .colab-df-convert:hover {\n",
              "      background-color: #E2EBFA;\n",
              "      box-shadow: 0px 1px 2px rgba(60, 64, 67, 0.3), 0px 1px 3px 1px rgba(60, 64, 67, 0.15);\n",
              "      fill: #174EA6;\n",
              "    }\n",
              "\n",
              "    .colab-df-buttons div {\n",
              "      margin-bottom: 4px;\n",
              "    }\n",
              "\n",
              "    [theme=dark] .colab-df-convert {\n",
              "      background-color: #3B4455;\n",
              "      fill: #D2E3FC;\n",
              "    }\n",
              "\n",
              "    [theme=dark] .colab-df-convert:hover {\n",
              "      background-color: #434B5C;\n",
              "      box-shadow: 0px 1px 3px 1px rgba(0, 0, 0, 0.15);\n",
              "      filter: drop-shadow(0px 1px 2px rgba(0, 0, 0, 0.3));\n",
              "      fill: #FFFFFF;\n",
              "    }\n",
              "  </style>\n",
              "\n",
              "    <script>\n",
              "      const buttonEl =\n",
              "        document.querySelector('#df-907241b1-4690-49d6-8c48-5171fee15db0 button.colab-df-convert');\n",
              "      buttonEl.style.display =\n",
              "        google.colab.kernel.accessAllowed ? 'block' : 'none';\n",
              "\n",
              "      async function convertToInteractive(key) {\n",
              "        const element = document.querySelector('#df-907241b1-4690-49d6-8c48-5171fee15db0');\n",
              "        const dataTable =\n",
              "          await google.colab.kernel.invokeFunction('convertToInteractive',\n",
              "                                                    [key], {});\n",
              "        if (!dataTable) return;\n",
              "\n",
              "        const docLinkHtml = 'Like what you see? Visit the ' +\n",
              "          '<a target=\"_blank\" href=https://colab.research.google.com/notebooks/data_table.ipynb>data table notebook</a>'\n",
              "          + ' to learn more about interactive tables.';\n",
              "        element.innerHTML = '';\n",
              "        dataTable['output_type'] = 'display_data';\n",
              "        await google.colab.output.renderOutput(dataTable, element);\n",
              "        const docLink = document.createElement('div');\n",
              "        docLink.innerHTML = docLinkHtml;\n",
              "        element.appendChild(docLink);\n",
              "      }\n",
              "    </script>\n",
              "  </div>\n",
              "\n",
              "\n",
              "<div id=\"df-f8d30ff4-e408-4e1a-825a-e4ca75386bc9\">\n",
              "  <button class=\"colab-df-quickchart\" onclick=\"quickchart('df-f8d30ff4-e408-4e1a-825a-e4ca75386bc9')\"\n",
              "            title=\"Suggest charts\"\n",
              "            style=\"display:none;\">\n",
              "\n",
              "<svg xmlns=\"http://www.w3.org/2000/svg\" height=\"24px\"viewBox=\"0 0 24 24\"\n",
              "     width=\"24px\">\n",
              "    <g>\n",
              "        <path d=\"M19 3H5c-1.1 0-2 .9-2 2v14c0 1.1.9 2 2 2h14c1.1 0 2-.9 2-2V5c0-1.1-.9-2-2-2zM9 17H7v-7h2v7zm4 0h-2V7h2v10zm4 0h-2v-4h2v4z\"/>\n",
              "    </g>\n",
              "</svg>\n",
              "  </button>\n",
              "\n",
              "<style>\n",
              "  .colab-df-quickchart {\n",
              "      --bg-color: #E8F0FE;\n",
              "      --fill-color: #1967D2;\n",
              "      --hover-bg-color: #E2EBFA;\n",
              "      --hover-fill-color: #174EA6;\n",
              "      --disabled-fill-color: #AAA;\n",
              "      --disabled-bg-color: #DDD;\n",
              "  }\n",
              "\n",
              "  [theme=dark] .colab-df-quickchart {\n",
              "      --bg-color: #3B4455;\n",
              "      --fill-color: #D2E3FC;\n",
              "      --hover-bg-color: #434B5C;\n",
              "      --hover-fill-color: #FFFFFF;\n",
              "      --disabled-bg-color: #3B4455;\n",
              "      --disabled-fill-color: #666;\n",
              "  }\n",
              "\n",
              "  .colab-df-quickchart {\n",
              "    background-color: var(--bg-color);\n",
              "    border: none;\n",
              "    border-radius: 50%;\n",
              "    cursor: pointer;\n",
              "    display: none;\n",
              "    fill: var(--fill-color);\n",
              "    height: 32px;\n",
              "    padding: 0;\n",
              "    width: 32px;\n",
              "  }\n",
              "\n",
              "  .colab-df-quickchart:hover {\n",
              "    background-color: var(--hover-bg-color);\n",
              "    box-shadow: 0 1px 2px rgba(60, 64, 67, 0.3), 0 1px 3px 1px rgba(60, 64, 67, 0.15);\n",
              "    fill: var(--button-hover-fill-color);\n",
              "  }\n",
              "\n",
              "  .colab-df-quickchart-complete:disabled,\n",
              "  .colab-df-quickchart-complete:disabled:hover {\n",
              "    background-color: var(--disabled-bg-color);\n",
              "    fill: var(--disabled-fill-color);\n",
              "    box-shadow: none;\n",
              "  }\n",
              "\n",
              "  .colab-df-spinner {\n",
              "    border: 2px solid var(--fill-color);\n",
              "    border-color: transparent;\n",
              "    border-bottom-color: var(--fill-color);\n",
              "    animation:\n",
              "      spin 1s steps(1) infinite;\n",
              "  }\n",
              "\n",
              "  @keyframes spin {\n",
              "    0% {\n",
              "      border-color: transparent;\n",
              "      border-bottom-color: var(--fill-color);\n",
              "      border-left-color: var(--fill-color);\n",
              "    }\n",
              "    20% {\n",
              "      border-color: transparent;\n",
              "      border-left-color: var(--fill-color);\n",
              "      border-top-color: var(--fill-color);\n",
              "    }\n",
              "    30% {\n",
              "      border-color: transparent;\n",
              "      border-left-color: var(--fill-color);\n",
              "      border-top-color: var(--fill-color);\n",
              "      border-right-color: var(--fill-color);\n",
              "    }\n",
              "    40% {\n",
              "      border-color: transparent;\n",
              "      border-right-color: var(--fill-color);\n",
              "      border-top-color: var(--fill-color);\n",
              "    }\n",
              "    60% {\n",
              "      border-color: transparent;\n",
              "      border-right-color: var(--fill-color);\n",
              "    }\n",
              "    80% {\n",
              "      border-color: transparent;\n",
              "      border-right-color: var(--fill-color);\n",
              "      border-bottom-color: var(--fill-color);\n",
              "    }\n",
              "    90% {\n",
              "      border-color: transparent;\n",
              "      border-bottom-color: var(--fill-color);\n",
              "    }\n",
              "  }\n",
              "</style>\n",
              "\n",
              "  <script>\n",
              "    async function quickchart(key) {\n",
              "      const quickchartButtonEl =\n",
              "        document.querySelector('#' + key + ' button');\n",
              "      quickchartButtonEl.disabled = true;  // To prevent multiple clicks.\n",
              "      quickchartButtonEl.classList.add('colab-df-spinner');\n",
              "      try {\n",
              "        const charts = await google.colab.kernel.invokeFunction(\n",
              "            'suggestCharts', [key], {});\n",
              "      } catch (error) {\n",
              "        console.error('Error during call to suggestCharts:', error);\n",
              "      }\n",
              "      quickchartButtonEl.classList.remove('colab-df-spinner');\n",
              "      quickchartButtonEl.classList.add('colab-df-quickchart-complete');\n",
              "    }\n",
              "    (() => {\n",
              "      let quickchartButtonEl =\n",
              "        document.querySelector('#df-f8d30ff4-e408-4e1a-825a-e4ca75386bc9 button');\n",
              "      quickchartButtonEl.style.display =\n",
              "        google.colab.kernel.accessAllowed ? 'block' : 'none';\n",
              "    })();\n",
              "  </script>\n",
              "</div>\n",
              "\n",
              "    </div>\n",
              "  </div>\n"
            ],
            "application/vnd.google.colaboratory.intrinsic+json": {
              "type": "dataframe",
              "variable_name": "data"
            }
          },
          "metadata": {},
          "execution_count": 14
        }
      ]
    },
    {
      "cell_type": "code",
      "source": [
        "# view the data info\n",
        "data.info()"
      ],
      "metadata": {
        "colab": {
          "base_uri": "https://localhost:8080/"
        },
        "id": "FP5wTjMGEEyK",
        "outputId": "17e0d324-9512-47ec-e596-80228a9f6580"
      },
      "execution_count": null,
      "outputs": [
        {
          "output_type": "stream",
          "name": "stdout",
          "text": [
            "<class 'pandas.core.frame.DataFrame'>\n",
            "RangeIndex: 61069 entries, 0 to 61068\n",
            "Data columns (total 21 columns):\n",
            " #   Column                Non-Null Count  Dtype  \n",
            "---  ------                --------------  -----  \n",
            " 0   class                 61069 non-null  object \n",
            " 1   cap-diameter          61069 non-null  float64\n",
            " 2   cap-shape             61069 non-null  object \n",
            " 3   cap-surface           46949 non-null  object \n",
            " 4   cap-color             61069 non-null  object \n",
            " 5   does-bruise-or-bleed  61069 non-null  object \n",
            " 6   gill-attachment       51185 non-null  object \n",
            " 7   gill-spacing          36006 non-null  object \n",
            " 8   gill-color            61069 non-null  object \n",
            " 9   stem-height           61069 non-null  float64\n",
            " 10  stem-width            61069 non-null  float64\n",
            " 11  stem-root             9531 non-null   object \n",
            " 12  stem-surface          22945 non-null  object \n",
            " 13  stem-color            61069 non-null  object \n",
            " 14  veil-type             3177 non-null   object \n",
            " 15  veil-color            7413 non-null   object \n",
            " 16  has-ring              61069 non-null  object \n",
            " 17  ring-type             58598 non-null  object \n",
            " 18  spore-print-color     6354 non-null   object \n",
            " 19  habitat               61069 non-null  object \n",
            " 20  season                61069 non-null  object \n",
            "dtypes: float64(3), object(18)\n",
            "memory usage: 9.8+ MB\n"
          ]
        }
      ]
    },
    {
      "cell_type": "markdown",
      "source": [
        "Data preprocessing"
      ],
      "metadata": {
        "id": "PIP1Qv4dxKVO"
      }
    },
    {
      "cell_type": "code",
      "source": [
        "# label encode all categorical columns\n",
        "cat_columns = data.select_dtypes('object').columns\n",
        "\n",
        "for column in data.columns:\n",
        "    data[column] = LabelEncoder().fit_transform(data[column])\n",
        "\n",
        "data.head()"
      ],
      "metadata": {
        "colab": {
          "base_uri": "https://localhost:8080/",
          "height": 307
        },
        "id": "XhBLf0SREIur",
        "outputId": "aa998385-1767-42e1-c203-7445635d4989"
      },
      "execution_count": null,
      "outputs": [
        {
          "output_type": "execute_result",
          "data": {
            "text/plain": [
              "   class  cap-diameter  cap-shape  cap-surface  cap-color  \\\n",
              "0      1          1481          6            2          6   \n",
              "1      1          1614          6            2          6   \n",
              "2      1          1362          6            2          6   \n",
              "3      1          1372          2            3          1   \n",
              "4      1          1419          6            3          6   \n",
              "\n",
              "   does-bruise-or-bleed  gill-attachment  gill-spacing  gill-color  \\\n",
              "0                     0                2             3          10   \n",
              "1                     0                2             3          10   \n",
              "2                     0                2             3          10   \n",
              "3                     0                2             3          10   \n",
              "4                     0                2             3          10   \n",
              "\n",
              "   stem-height  ...  stem-root  stem-surface  stem-color  veil-type  \\\n",
              "0         1577  ...          4             7          11          0   \n",
              "1         1681  ...          4             7          11          0   \n",
              "2         1662  ...          4             7          11          0   \n",
              "3         1463  ...          4             7          11          0   \n",
              "4         1537  ...          4             7          11          0   \n",
              "\n",
              "   veil-color  has-ring  ring-type  spore-print-color  habitat  season  \n",
              "0           4         1          2                  7        0       3  \n",
              "1           4         1          2                  7        0       2  \n",
              "2           4         1          2                  7        0       3  \n",
              "3           4         1          5                  7        0       3  \n",
              "4           4         1          5                  7        0       3  \n",
              "\n",
              "[5 rows x 21 columns]"
            ],
            "text/html": [
              "\n",
              "  <div id=\"df-2cf0567f-9c6e-4a3f-8d10-f44da6d7e14f\" class=\"colab-df-container\">\n",
              "    <div>\n",
              "<style scoped>\n",
              "    .dataframe tbody tr th:only-of-type {\n",
              "        vertical-align: middle;\n",
              "    }\n",
              "\n",
              "    .dataframe tbody tr th {\n",
              "        vertical-align: top;\n",
              "    }\n",
              "\n",
              "    .dataframe thead th {\n",
              "        text-align: right;\n",
              "    }\n",
              "</style>\n",
              "<table border=\"1\" class=\"dataframe\">\n",
              "  <thead>\n",
              "    <tr style=\"text-align: right;\">\n",
              "      <th></th>\n",
              "      <th>class</th>\n",
              "      <th>cap-diameter</th>\n",
              "      <th>cap-shape</th>\n",
              "      <th>cap-surface</th>\n",
              "      <th>cap-color</th>\n",
              "      <th>does-bruise-or-bleed</th>\n",
              "      <th>gill-attachment</th>\n",
              "      <th>gill-spacing</th>\n",
              "      <th>gill-color</th>\n",
              "      <th>stem-height</th>\n",
              "      <th>...</th>\n",
              "      <th>stem-root</th>\n",
              "      <th>stem-surface</th>\n",
              "      <th>stem-color</th>\n",
              "      <th>veil-type</th>\n",
              "      <th>veil-color</th>\n",
              "      <th>has-ring</th>\n",
              "      <th>ring-type</th>\n",
              "      <th>spore-print-color</th>\n",
              "      <th>habitat</th>\n",
              "      <th>season</th>\n",
              "    </tr>\n",
              "  </thead>\n",
              "  <tbody>\n",
              "    <tr>\n",
              "      <th>0</th>\n",
              "      <td>1</td>\n",
              "      <td>1481</td>\n",
              "      <td>6</td>\n",
              "      <td>2</td>\n",
              "      <td>6</td>\n",
              "      <td>0</td>\n",
              "      <td>2</td>\n",
              "      <td>3</td>\n",
              "      <td>10</td>\n",
              "      <td>1577</td>\n",
              "      <td>...</td>\n",
              "      <td>4</td>\n",
              "      <td>7</td>\n",
              "      <td>11</td>\n",
              "      <td>0</td>\n",
              "      <td>4</td>\n",
              "      <td>1</td>\n",
              "      <td>2</td>\n",
              "      <td>7</td>\n",
              "      <td>0</td>\n",
              "      <td>3</td>\n",
              "    </tr>\n",
              "    <tr>\n",
              "      <th>1</th>\n",
              "      <td>1</td>\n",
              "      <td>1614</td>\n",
              "      <td>6</td>\n",
              "      <td>2</td>\n",
              "      <td>6</td>\n",
              "      <td>0</td>\n",
              "      <td>2</td>\n",
              "      <td>3</td>\n",
              "      <td>10</td>\n",
              "      <td>1681</td>\n",
              "      <td>...</td>\n",
              "      <td>4</td>\n",
              "      <td>7</td>\n",
              "      <td>11</td>\n",
              "      <td>0</td>\n",
              "      <td>4</td>\n",
              "      <td>1</td>\n",
              "      <td>2</td>\n",
              "      <td>7</td>\n",
              "      <td>0</td>\n",
              "      <td>2</td>\n",
              "    </tr>\n",
              "    <tr>\n",
              "      <th>2</th>\n",
              "      <td>1</td>\n",
              "      <td>1362</td>\n",
              "      <td>6</td>\n",
              "      <td>2</td>\n",
              "      <td>6</td>\n",
              "      <td>0</td>\n",
              "      <td>2</td>\n",
              "      <td>3</td>\n",
              "      <td>10</td>\n",
              "      <td>1662</td>\n",
              "      <td>...</td>\n",
              "      <td>4</td>\n",
              "      <td>7</td>\n",
              "      <td>11</td>\n",
              "      <td>0</td>\n",
              "      <td>4</td>\n",
              "      <td>1</td>\n",
              "      <td>2</td>\n",
              "      <td>7</td>\n",
              "      <td>0</td>\n",
              "      <td>3</td>\n",
              "    </tr>\n",
              "    <tr>\n",
              "      <th>3</th>\n",
              "      <td>1</td>\n",
              "      <td>1372</td>\n",
              "      <td>2</td>\n",
              "      <td>3</td>\n",
              "      <td>1</td>\n",
              "      <td>0</td>\n",
              "      <td>2</td>\n",
              "      <td>3</td>\n",
              "      <td>10</td>\n",
              "      <td>1463</td>\n",
              "      <td>...</td>\n",
              "      <td>4</td>\n",
              "      <td>7</td>\n",
              "      <td>11</td>\n",
              "      <td>0</td>\n",
              "      <td>4</td>\n",
              "      <td>1</td>\n",
              "      <td>5</td>\n",
              "      <td>7</td>\n",
              "      <td>0</td>\n",
              "      <td>3</td>\n",
              "    </tr>\n",
              "    <tr>\n",
              "      <th>4</th>\n",
              "      <td>1</td>\n",
              "      <td>1419</td>\n",
              "      <td>6</td>\n",
              "      <td>3</td>\n",
              "      <td>6</td>\n",
              "      <td>0</td>\n",
              "      <td>2</td>\n",
              "      <td>3</td>\n",
              "      <td>10</td>\n",
              "      <td>1537</td>\n",
              "      <td>...</td>\n",
              "      <td>4</td>\n",
              "      <td>7</td>\n",
              "      <td>11</td>\n",
              "      <td>0</td>\n",
              "      <td>4</td>\n",
              "      <td>1</td>\n",
              "      <td>5</td>\n",
              "      <td>7</td>\n",
              "      <td>0</td>\n",
              "      <td>3</td>\n",
              "    </tr>\n",
              "  </tbody>\n",
              "</table>\n",
              "<p>5 rows × 21 columns</p>\n",
              "</div>\n",
              "    <div class=\"colab-df-buttons\">\n",
              "\n",
              "  <div class=\"colab-df-container\">\n",
              "    <button class=\"colab-df-convert\" onclick=\"convertToInteractive('df-2cf0567f-9c6e-4a3f-8d10-f44da6d7e14f')\"\n",
              "            title=\"Convert this dataframe to an interactive table.\"\n",
              "            style=\"display:none;\">\n",
              "\n",
              "  <svg xmlns=\"http://www.w3.org/2000/svg\" height=\"24px\" viewBox=\"0 -960 960 960\">\n",
              "    <path d=\"M120-120v-720h720v720H120Zm60-500h600v-160H180v160Zm220 220h160v-160H400v160Zm0 220h160v-160H400v160ZM180-400h160v-160H180v160Zm440 0h160v-160H620v160ZM180-180h160v-160H180v160Zm440 0h160v-160H620v160Z\"/>\n",
              "  </svg>\n",
              "    </button>\n",
              "\n",
              "  <style>\n",
              "    .colab-df-container {\n",
              "      display:flex;\n",
              "      gap: 12px;\n",
              "    }\n",
              "\n",
              "    .colab-df-convert {\n",
              "      background-color: #E8F0FE;\n",
              "      border: none;\n",
              "      border-radius: 50%;\n",
              "      cursor: pointer;\n",
              "      display: none;\n",
              "      fill: #1967D2;\n",
              "      height: 32px;\n",
              "      padding: 0 0 0 0;\n",
              "      width: 32px;\n",
              "    }\n",
              "\n",
              "    .colab-df-convert:hover {\n",
              "      background-color: #E2EBFA;\n",
              "      box-shadow: 0px 1px 2px rgba(60, 64, 67, 0.3), 0px 1px 3px 1px rgba(60, 64, 67, 0.15);\n",
              "      fill: #174EA6;\n",
              "    }\n",
              "\n",
              "    .colab-df-buttons div {\n",
              "      margin-bottom: 4px;\n",
              "    }\n",
              "\n",
              "    [theme=dark] .colab-df-convert {\n",
              "      background-color: #3B4455;\n",
              "      fill: #D2E3FC;\n",
              "    }\n",
              "\n",
              "    [theme=dark] .colab-df-convert:hover {\n",
              "      background-color: #434B5C;\n",
              "      box-shadow: 0px 1px 3px 1px rgba(0, 0, 0, 0.15);\n",
              "      filter: drop-shadow(0px 1px 2px rgba(0, 0, 0, 0.3));\n",
              "      fill: #FFFFFF;\n",
              "    }\n",
              "  </style>\n",
              "\n",
              "    <script>\n",
              "      const buttonEl =\n",
              "        document.querySelector('#df-2cf0567f-9c6e-4a3f-8d10-f44da6d7e14f button.colab-df-convert');\n",
              "      buttonEl.style.display =\n",
              "        google.colab.kernel.accessAllowed ? 'block' : 'none';\n",
              "\n",
              "      async function convertToInteractive(key) {\n",
              "        const element = document.querySelector('#df-2cf0567f-9c6e-4a3f-8d10-f44da6d7e14f');\n",
              "        const dataTable =\n",
              "          await google.colab.kernel.invokeFunction('convertToInteractive',\n",
              "                                                    [key], {});\n",
              "        if (!dataTable) return;\n",
              "\n",
              "        const docLinkHtml = 'Like what you see? Visit the ' +\n",
              "          '<a target=\"_blank\" href=https://colab.research.google.com/notebooks/data_table.ipynb>data table notebook</a>'\n",
              "          + ' to learn more about interactive tables.';\n",
              "        element.innerHTML = '';\n",
              "        dataTable['output_type'] = 'display_data';\n",
              "        await google.colab.output.renderOutput(dataTable, element);\n",
              "        const docLink = document.createElement('div');\n",
              "        docLink.innerHTML = docLinkHtml;\n",
              "        element.appendChild(docLink);\n",
              "      }\n",
              "    </script>\n",
              "  </div>\n",
              "\n",
              "\n",
              "<div id=\"df-91b729bb-21f7-4c21-84af-bd74714e5d22\">\n",
              "  <button class=\"colab-df-quickchart\" onclick=\"quickchart('df-91b729bb-21f7-4c21-84af-bd74714e5d22')\"\n",
              "            title=\"Suggest charts\"\n",
              "            style=\"display:none;\">\n",
              "\n",
              "<svg xmlns=\"http://www.w3.org/2000/svg\" height=\"24px\"viewBox=\"0 0 24 24\"\n",
              "     width=\"24px\">\n",
              "    <g>\n",
              "        <path d=\"M19 3H5c-1.1 0-2 .9-2 2v14c0 1.1.9 2 2 2h14c1.1 0 2-.9 2-2V5c0-1.1-.9-2-2-2zM9 17H7v-7h2v7zm4 0h-2V7h2v10zm4 0h-2v-4h2v4z\"/>\n",
              "    </g>\n",
              "</svg>\n",
              "  </button>\n",
              "\n",
              "<style>\n",
              "  .colab-df-quickchart {\n",
              "      --bg-color: #E8F0FE;\n",
              "      --fill-color: #1967D2;\n",
              "      --hover-bg-color: #E2EBFA;\n",
              "      --hover-fill-color: #174EA6;\n",
              "      --disabled-fill-color: #AAA;\n",
              "      --disabled-bg-color: #DDD;\n",
              "  }\n",
              "\n",
              "  [theme=dark] .colab-df-quickchart {\n",
              "      --bg-color: #3B4455;\n",
              "      --fill-color: #D2E3FC;\n",
              "      --hover-bg-color: #434B5C;\n",
              "      --hover-fill-color: #FFFFFF;\n",
              "      --disabled-bg-color: #3B4455;\n",
              "      --disabled-fill-color: #666;\n",
              "  }\n",
              "\n",
              "  .colab-df-quickchart {\n",
              "    background-color: var(--bg-color);\n",
              "    border: none;\n",
              "    border-radius: 50%;\n",
              "    cursor: pointer;\n",
              "    display: none;\n",
              "    fill: var(--fill-color);\n",
              "    height: 32px;\n",
              "    padding: 0;\n",
              "    width: 32px;\n",
              "  }\n",
              "\n",
              "  .colab-df-quickchart:hover {\n",
              "    background-color: var(--hover-bg-color);\n",
              "    box-shadow: 0 1px 2px rgba(60, 64, 67, 0.3), 0 1px 3px 1px rgba(60, 64, 67, 0.15);\n",
              "    fill: var(--button-hover-fill-color);\n",
              "  }\n",
              "\n",
              "  .colab-df-quickchart-complete:disabled,\n",
              "  .colab-df-quickchart-complete:disabled:hover {\n",
              "    background-color: var(--disabled-bg-color);\n",
              "    fill: var(--disabled-fill-color);\n",
              "    box-shadow: none;\n",
              "  }\n",
              "\n",
              "  .colab-df-spinner {\n",
              "    border: 2px solid var(--fill-color);\n",
              "    border-color: transparent;\n",
              "    border-bottom-color: var(--fill-color);\n",
              "    animation:\n",
              "      spin 1s steps(1) infinite;\n",
              "  }\n",
              "\n",
              "  @keyframes spin {\n",
              "    0% {\n",
              "      border-color: transparent;\n",
              "      border-bottom-color: var(--fill-color);\n",
              "      border-left-color: var(--fill-color);\n",
              "    }\n",
              "    20% {\n",
              "      border-color: transparent;\n",
              "      border-left-color: var(--fill-color);\n",
              "      border-top-color: var(--fill-color);\n",
              "    }\n",
              "    30% {\n",
              "      border-color: transparent;\n",
              "      border-left-color: var(--fill-color);\n",
              "      border-top-color: var(--fill-color);\n",
              "      border-right-color: var(--fill-color);\n",
              "    }\n",
              "    40% {\n",
              "      border-color: transparent;\n",
              "      border-right-color: var(--fill-color);\n",
              "      border-top-color: var(--fill-color);\n",
              "    }\n",
              "    60% {\n",
              "      border-color: transparent;\n",
              "      border-right-color: var(--fill-color);\n",
              "    }\n",
              "    80% {\n",
              "      border-color: transparent;\n",
              "      border-right-color: var(--fill-color);\n",
              "      border-bottom-color: var(--fill-color);\n",
              "    }\n",
              "    90% {\n",
              "      border-color: transparent;\n",
              "      border-bottom-color: var(--fill-color);\n",
              "    }\n",
              "  }\n",
              "</style>\n",
              "\n",
              "  <script>\n",
              "    async function quickchart(key) {\n",
              "      const quickchartButtonEl =\n",
              "        document.querySelector('#' + key + ' button');\n",
              "      quickchartButtonEl.disabled = true;  // To prevent multiple clicks.\n",
              "      quickchartButtonEl.classList.add('colab-df-spinner');\n",
              "      try {\n",
              "        const charts = await google.colab.kernel.invokeFunction(\n",
              "            'suggestCharts', [key], {});\n",
              "      } catch (error) {\n",
              "        console.error('Error during call to suggestCharts:', error);\n",
              "      }\n",
              "      quickchartButtonEl.classList.remove('colab-df-spinner');\n",
              "      quickchartButtonEl.classList.add('colab-df-quickchart-complete');\n",
              "    }\n",
              "    (() => {\n",
              "      let quickchartButtonEl =\n",
              "        document.querySelector('#df-91b729bb-21f7-4c21-84af-bd74714e5d22 button');\n",
              "      quickchartButtonEl.style.display =\n",
              "        google.colab.kernel.accessAllowed ? 'block' : 'none';\n",
              "    })();\n",
              "  </script>\n",
              "</div>\n",
              "\n",
              "    </div>\n",
              "  </div>\n"
            ],
            "application/vnd.google.colaboratory.intrinsic+json": {
              "type": "dataframe",
              "variable_name": "data"
            }
          },
          "metadata": {},
          "execution_count": 22
        }
      ]
    },
    {
      "cell_type": "markdown",
      "source": [
        "Standard Scaling all columns"
      ],
      "metadata": {
        "id": "kxWvK7eExQ2r"
      }
    },
    {
      "cell_type": "code",
      "source": [
        "all_columns = set(data.columns)\n",
        "\n",
        "# Exclude the target column\n",
        "all_columns.remove('season')\n",
        "\n",
        "for column in all_columns:\n",
        "    data[column] = StandardScaler().fit_transform(data[column].values.reshape(-1, 1))\n",
        "\n",
        "data.head()"
      ],
      "metadata": {
        "colab": {
          "base_uri": "https://localhost:8080/",
          "height": 290
        },
        "id": "-MYKOBajEnat",
        "outputId": "690ed687-e873-478b-f0f1-d56abe5a80f0"
      },
      "execution_count": null,
      "outputs": [
        {
          "output_type": "execute_result",
          "data": {
            "text/plain": [
              "      class  cap-diameter  cap-shape  cap-surface  cap-color  \\\n",
              "0  0.895591      2.036990   0.915714    -1.287113  -0.045582   \n",
              "1  0.895591      2.348960   0.915714    -1.287113  -0.045582   \n",
              "2  0.895591      1.757858   0.915714    -1.287113  -0.045582   \n",
              "3  0.895591      1.781315  -0.954657    -1.016635  -1.622346   \n",
              "4  0.895591      1.891560   0.915714    -1.016635  -0.045582   \n",
              "\n",
              "   does-bruise-or-bleed  gill-attachment  gill-spacing  gill-color  \\\n",
              "0             -0.458029         -0.47925      1.113142    0.835268   \n",
              "1             -0.458029         -0.47925      1.113142    0.835268   \n",
              "2             -0.458029         -0.47925      1.113142    0.835268   \n",
              "3             -0.458029         -0.47925      1.113142    0.835268   \n",
              "4             -0.458029         -0.47925      1.113142    0.835268   \n",
              "\n",
              "   stem-height  ...  stem-root  stem-surface  stem-color  veil-type  \\\n",
              "0     3.217202  ...  -0.432597      0.151892    0.798799  -4.268749   \n",
              "1     3.542198  ...  -0.432597      0.151892    0.798799  -4.268749   \n",
              "2     3.482824  ...  -0.432597      0.151892    0.798799  -4.268749   \n",
              "3     2.860957  ...  -0.432597      0.151892    0.798799  -4.268749   \n",
              "4     3.092204  ...  -0.432597      0.151892    0.798799  -4.268749   \n",
              "\n",
              "   veil-color  has-ring  ring-type  spore-print-color   habitat  season  \n",
              "0   -2.011264  1.738751   0.136786           0.308365 -0.492721       3  \n",
              "1   -2.011264  1.738751   0.136786           0.308365 -0.492721       2  \n",
              "2   -2.011264  1.738751   0.136786           0.308365 -0.492721       3  \n",
              "3   -2.011264  1.738751   1.675068           0.308365 -0.492721       3  \n",
              "4   -2.011264  1.738751   1.675068           0.308365 -0.492721       3  \n",
              "\n",
              "[5 rows x 21 columns]"
            ],
            "text/html": [
              "\n",
              "  <div id=\"df-e11f18b0-daf9-47c2-8d0b-067582a44a9c\" class=\"colab-df-container\">\n",
              "    <div>\n",
              "<style scoped>\n",
              "    .dataframe tbody tr th:only-of-type {\n",
              "        vertical-align: middle;\n",
              "    }\n",
              "\n",
              "    .dataframe tbody tr th {\n",
              "        vertical-align: top;\n",
              "    }\n",
              "\n",
              "    .dataframe thead th {\n",
              "        text-align: right;\n",
              "    }\n",
              "</style>\n",
              "<table border=\"1\" class=\"dataframe\">\n",
              "  <thead>\n",
              "    <tr style=\"text-align: right;\">\n",
              "      <th></th>\n",
              "      <th>class</th>\n",
              "      <th>cap-diameter</th>\n",
              "      <th>cap-shape</th>\n",
              "      <th>cap-surface</th>\n",
              "      <th>cap-color</th>\n",
              "      <th>does-bruise-or-bleed</th>\n",
              "      <th>gill-attachment</th>\n",
              "      <th>gill-spacing</th>\n",
              "      <th>gill-color</th>\n",
              "      <th>stem-height</th>\n",
              "      <th>...</th>\n",
              "      <th>stem-root</th>\n",
              "      <th>stem-surface</th>\n",
              "      <th>stem-color</th>\n",
              "      <th>veil-type</th>\n",
              "      <th>veil-color</th>\n",
              "      <th>has-ring</th>\n",
              "      <th>ring-type</th>\n",
              "      <th>spore-print-color</th>\n",
              "      <th>habitat</th>\n",
              "      <th>season</th>\n",
              "    </tr>\n",
              "  </thead>\n",
              "  <tbody>\n",
              "    <tr>\n",
              "      <th>0</th>\n",
              "      <td>0.895591</td>\n",
              "      <td>2.036990</td>\n",
              "      <td>0.915714</td>\n",
              "      <td>-1.287113</td>\n",
              "      <td>-0.045582</td>\n",
              "      <td>-0.458029</td>\n",
              "      <td>-0.47925</td>\n",
              "      <td>1.113142</td>\n",
              "      <td>0.835268</td>\n",
              "      <td>3.217202</td>\n",
              "      <td>...</td>\n",
              "      <td>-0.432597</td>\n",
              "      <td>0.151892</td>\n",
              "      <td>0.798799</td>\n",
              "      <td>-4.268749</td>\n",
              "      <td>-2.011264</td>\n",
              "      <td>1.738751</td>\n",
              "      <td>0.136786</td>\n",
              "      <td>0.308365</td>\n",
              "      <td>-0.492721</td>\n",
              "      <td>3</td>\n",
              "    </tr>\n",
              "    <tr>\n",
              "      <th>1</th>\n",
              "      <td>0.895591</td>\n",
              "      <td>2.348960</td>\n",
              "      <td>0.915714</td>\n",
              "      <td>-1.287113</td>\n",
              "      <td>-0.045582</td>\n",
              "      <td>-0.458029</td>\n",
              "      <td>-0.47925</td>\n",
              "      <td>1.113142</td>\n",
              "      <td>0.835268</td>\n",
              "      <td>3.542198</td>\n",
              "      <td>...</td>\n",
              "      <td>-0.432597</td>\n",
              "      <td>0.151892</td>\n",
              "      <td>0.798799</td>\n",
              "      <td>-4.268749</td>\n",
              "      <td>-2.011264</td>\n",
              "      <td>1.738751</td>\n",
              "      <td>0.136786</td>\n",
              "      <td>0.308365</td>\n",
              "      <td>-0.492721</td>\n",
              "      <td>2</td>\n",
              "    </tr>\n",
              "    <tr>\n",
              "      <th>2</th>\n",
              "      <td>0.895591</td>\n",
              "      <td>1.757858</td>\n",
              "      <td>0.915714</td>\n",
              "      <td>-1.287113</td>\n",
              "      <td>-0.045582</td>\n",
              "      <td>-0.458029</td>\n",
              "      <td>-0.47925</td>\n",
              "      <td>1.113142</td>\n",
              "      <td>0.835268</td>\n",
              "      <td>3.482824</td>\n",
              "      <td>...</td>\n",
              "      <td>-0.432597</td>\n",
              "      <td>0.151892</td>\n",
              "      <td>0.798799</td>\n",
              "      <td>-4.268749</td>\n",
              "      <td>-2.011264</td>\n",
              "      <td>1.738751</td>\n",
              "      <td>0.136786</td>\n",
              "      <td>0.308365</td>\n",
              "      <td>-0.492721</td>\n",
              "      <td>3</td>\n",
              "    </tr>\n",
              "    <tr>\n",
              "      <th>3</th>\n",
              "      <td>0.895591</td>\n",
              "      <td>1.781315</td>\n",
              "      <td>-0.954657</td>\n",
              "      <td>-1.016635</td>\n",
              "      <td>-1.622346</td>\n",
              "      <td>-0.458029</td>\n",
              "      <td>-0.47925</td>\n",
              "      <td>1.113142</td>\n",
              "      <td>0.835268</td>\n",
              "      <td>2.860957</td>\n",
              "      <td>...</td>\n",
              "      <td>-0.432597</td>\n",
              "      <td>0.151892</td>\n",
              "      <td>0.798799</td>\n",
              "      <td>-4.268749</td>\n",
              "      <td>-2.011264</td>\n",
              "      <td>1.738751</td>\n",
              "      <td>1.675068</td>\n",
              "      <td>0.308365</td>\n",
              "      <td>-0.492721</td>\n",
              "      <td>3</td>\n",
              "    </tr>\n",
              "    <tr>\n",
              "      <th>4</th>\n",
              "      <td>0.895591</td>\n",
              "      <td>1.891560</td>\n",
              "      <td>0.915714</td>\n",
              "      <td>-1.016635</td>\n",
              "      <td>-0.045582</td>\n",
              "      <td>-0.458029</td>\n",
              "      <td>-0.47925</td>\n",
              "      <td>1.113142</td>\n",
              "      <td>0.835268</td>\n",
              "      <td>3.092204</td>\n",
              "      <td>...</td>\n",
              "      <td>-0.432597</td>\n",
              "      <td>0.151892</td>\n",
              "      <td>0.798799</td>\n",
              "      <td>-4.268749</td>\n",
              "      <td>-2.011264</td>\n",
              "      <td>1.738751</td>\n",
              "      <td>1.675068</td>\n",
              "      <td>0.308365</td>\n",
              "      <td>-0.492721</td>\n",
              "      <td>3</td>\n",
              "    </tr>\n",
              "  </tbody>\n",
              "</table>\n",
              "<p>5 rows × 21 columns</p>\n",
              "</div>\n",
              "    <div class=\"colab-df-buttons\">\n",
              "\n",
              "  <div class=\"colab-df-container\">\n",
              "    <button class=\"colab-df-convert\" onclick=\"convertToInteractive('df-e11f18b0-daf9-47c2-8d0b-067582a44a9c')\"\n",
              "            title=\"Convert this dataframe to an interactive table.\"\n",
              "            style=\"display:none;\">\n",
              "\n",
              "  <svg xmlns=\"http://www.w3.org/2000/svg\" height=\"24px\" viewBox=\"0 -960 960 960\">\n",
              "    <path d=\"M120-120v-720h720v720H120Zm60-500h600v-160H180v160Zm220 220h160v-160H400v160Zm0 220h160v-160H400v160ZM180-400h160v-160H180v160Zm440 0h160v-160H620v160ZM180-180h160v-160H180v160Zm440 0h160v-160H620v160Z\"/>\n",
              "  </svg>\n",
              "    </button>\n",
              "\n",
              "  <style>\n",
              "    .colab-df-container {\n",
              "      display:flex;\n",
              "      gap: 12px;\n",
              "    }\n",
              "\n",
              "    .colab-df-convert {\n",
              "      background-color: #E8F0FE;\n",
              "      border: none;\n",
              "      border-radius: 50%;\n",
              "      cursor: pointer;\n",
              "      display: none;\n",
              "      fill: #1967D2;\n",
              "      height: 32px;\n",
              "      padding: 0 0 0 0;\n",
              "      width: 32px;\n",
              "    }\n",
              "\n",
              "    .colab-df-convert:hover {\n",
              "      background-color: #E2EBFA;\n",
              "      box-shadow: 0px 1px 2px rgba(60, 64, 67, 0.3), 0px 1px 3px 1px rgba(60, 64, 67, 0.15);\n",
              "      fill: #174EA6;\n",
              "    }\n",
              "\n",
              "    .colab-df-buttons div {\n",
              "      margin-bottom: 4px;\n",
              "    }\n",
              "\n",
              "    [theme=dark] .colab-df-convert {\n",
              "      background-color: #3B4455;\n",
              "      fill: #D2E3FC;\n",
              "    }\n",
              "\n",
              "    [theme=dark] .colab-df-convert:hover {\n",
              "      background-color: #434B5C;\n",
              "      box-shadow: 0px 1px 3px 1px rgba(0, 0, 0, 0.15);\n",
              "      filter: drop-shadow(0px 1px 2px rgba(0, 0, 0, 0.3));\n",
              "      fill: #FFFFFF;\n",
              "    }\n",
              "  </style>\n",
              "\n",
              "    <script>\n",
              "      const buttonEl =\n",
              "        document.querySelector('#df-e11f18b0-daf9-47c2-8d0b-067582a44a9c button.colab-df-convert');\n",
              "      buttonEl.style.display =\n",
              "        google.colab.kernel.accessAllowed ? 'block' : 'none';\n",
              "\n",
              "      async function convertToInteractive(key) {\n",
              "        const element = document.querySelector('#df-e11f18b0-daf9-47c2-8d0b-067582a44a9c');\n",
              "        const dataTable =\n",
              "          await google.colab.kernel.invokeFunction('convertToInteractive',\n",
              "                                                    [key], {});\n",
              "        if (!dataTable) return;\n",
              "\n",
              "        const docLinkHtml = 'Like what you see? Visit the ' +\n",
              "          '<a target=\"_blank\" href=https://colab.research.google.com/notebooks/data_table.ipynb>data table notebook</a>'\n",
              "          + ' to learn more about interactive tables.';\n",
              "        element.innerHTML = '';\n",
              "        dataTable['output_type'] = 'display_data';\n",
              "        await google.colab.output.renderOutput(dataTable, element);\n",
              "        const docLink = document.createElement('div');\n",
              "        docLink.innerHTML = docLinkHtml;\n",
              "        element.appendChild(docLink);\n",
              "      }\n",
              "    </script>\n",
              "  </div>\n",
              "\n",
              "\n",
              "<div id=\"df-06fd440b-d0b3-42f6-a1bb-64d26eaa9736\">\n",
              "  <button class=\"colab-df-quickchart\" onclick=\"quickchart('df-06fd440b-d0b3-42f6-a1bb-64d26eaa9736')\"\n",
              "            title=\"Suggest charts\"\n",
              "            style=\"display:none;\">\n",
              "\n",
              "<svg xmlns=\"http://www.w3.org/2000/svg\" height=\"24px\"viewBox=\"0 0 24 24\"\n",
              "     width=\"24px\">\n",
              "    <g>\n",
              "        <path d=\"M19 3H5c-1.1 0-2 .9-2 2v14c0 1.1.9 2 2 2h14c1.1 0 2-.9 2-2V5c0-1.1-.9-2-2-2zM9 17H7v-7h2v7zm4 0h-2V7h2v10zm4 0h-2v-4h2v4z\"/>\n",
              "    </g>\n",
              "</svg>\n",
              "  </button>\n",
              "\n",
              "<style>\n",
              "  .colab-df-quickchart {\n",
              "      --bg-color: #E8F0FE;\n",
              "      --fill-color: #1967D2;\n",
              "      --hover-bg-color: #E2EBFA;\n",
              "      --hover-fill-color: #174EA6;\n",
              "      --disabled-fill-color: #AAA;\n",
              "      --disabled-bg-color: #DDD;\n",
              "  }\n",
              "\n",
              "  [theme=dark] .colab-df-quickchart {\n",
              "      --bg-color: #3B4455;\n",
              "      --fill-color: #D2E3FC;\n",
              "      --hover-bg-color: #434B5C;\n",
              "      --hover-fill-color: #FFFFFF;\n",
              "      --disabled-bg-color: #3B4455;\n",
              "      --disabled-fill-color: #666;\n",
              "  }\n",
              "\n",
              "  .colab-df-quickchart {\n",
              "    background-color: var(--bg-color);\n",
              "    border: none;\n",
              "    border-radius: 50%;\n",
              "    cursor: pointer;\n",
              "    display: none;\n",
              "    fill: var(--fill-color);\n",
              "    height: 32px;\n",
              "    padding: 0;\n",
              "    width: 32px;\n",
              "  }\n",
              "\n",
              "  .colab-df-quickchart:hover {\n",
              "    background-color: var(--hover-bg-color);\n",
              "    box-shadow: 0 1px 2px rgba(60, 64, 67, 0.3), 0 1px 3px 1px rgba(60, 64, 67, 0.15);\n",
              "    fill: var(--button-hover-fill-color);\n",
              "  }\n",
              "\n",
              "  .colab-df-quickchart-complete:disabled,\n",
              "  .colab-df-quickchart-complete:disabled:hover {\n",
              "    background-color: var(--disabled-bg-color);\n",
              "    fill: var(--disabled-fill-color);\n",
              "    box-shadow: none;\n",
              "  }\n",
              "\n",
              "  .colab-df-spinner {\n",
              "    border: 2px solid var(--fill-color);\n",
              "    border-color: transparent;\n",
              "    border-bottom-color: var(--fill-color);\n",
              "    animation:\n",
              "      spin 1s steps(1) infinite;\n",
              "  }\n",
              "\n",
              "  @keyframes spin {\n",
              "    0% {\n",
              "      border-color: transparent;\n",
              "      border-bottom-color: var(--fill-color);\n",
              "      border-left-color: var(--fill-color);\n",
              "    }\n",
              "    20% {\n",
              "      border-color: transparent;\n",
              "      border-left-color: var(--fill-color);\n",
              "      border-top-color: var(--fill-color);\n",
              "    }\n",
              "    30% {\n",
              "      border-color: transparent;\n",
              "      border-left-color: var(--fill-color);\n",
              "      border-top-color: var(--fill-color);\n",
              "      border-right-color: var(--fill-color);\n",
              "    }\n",
              "    40% {\n",
              "      border-color: transparent;\n",
              "      border-right-color: var(--fill-color);\n",
              "      border-top-color: var(--fill-color);\n",
              "    }\n",
              "    60% {\n",
              "      border-color: transparent;\n",
              "      border-right-color: var(--fill-color);\n",
              "    }\n",
              "    80% {\n",
              "      border-color: transparent;\n",
              "      border-right-color: var(--fill-color);\n",
              "      border-bottom-color: var(--fill-color);\n",
              "    }\n",
              "    90% {\n",
              "      border-color: transparent;\n",
              "      border-bottom-color: var(--fill-color);\n",
              "    }\n",
              "  }\n",
              "</style>\n",
              "\n",
              "  <script>\n",
              "    async function quickchart(key) {\n",
              "      const quickchartButtonEl =\n",
              "        document.querySelector('#' + key + ' button');\n",
              "      quickchartButtonEl.disabled = true;  // To prevent multiple clicks.\n",
              "      quickchartButtonEl.classList.add('colab-df-spinner');\n",
              "      try {\n",
              "        const charts = await google.colab.kernel.invokeFunction(\n",
              "            'suggestCharts', [key], {});\n",
              "      } catch (error) {\n",
              "        console.error('Error during call to suggestCharts:', error);\n",
              "      }\n",
              "      quickchartButtonEl.classList.remove('colab-df-spinner');\n",
              "      quickchartButtonEl.classList.add('colab-df-quickchart-complete');\n",
              "    }\n",
              "    (() => {\n",
              "      let quickchartButtonEl =\n",
              "        document.querySelector('#df-06fd440b-d0b3-42f6-a1bb-64d26eaa9736 button');\n",
              "      quickchartButtonEl.style.display =\n",
              "        google.colab.kernel.accessAllowed ? 'block' : 'none';\n",
              "    })();\n",
              "  </script>\n",
              "</div>\n",
              "\n",
              "    </div>\n",
              "  </div>\n"
            ],
            "application/vnd.google.colaboratory.intrinsic+json": {
              "type": "dataframe",
              "variable_name": "data"
            }
          },
          "metadata": {},
          "execution_count": 24
        }
      ]
    },
    {
      "cell_type": "markdown",
      "source": [
        "## Build the ANN"
      ],
      "metadata": {
        "id": "lmnkjfp5xz6F"
      }
    },
    {
      "cell_type": "markdown",
      "source": [
        "split the dataset into train and test set"
      ],
      "metadata": {
        "id": "tUtdxWjjx5Cp"
      }
    },
    {
      "cell_type": "code",
      "source": [
        "features = data[all_columns]\n",
        "targets = data['season']\n",
        "\n",
        "# Split the data into train and test\n",
        "X_train, X_test, Y_train, Y_test = train_test_split(features, targets, test_size=1/3)"
      ],
      "metadata": {
        "colab": {
          "base_uri": "https://localhost:8080/"
        },
        "id": "GaRMll-xE173",
        "outputId": "0eba1952-7365-47e6-e54e-31464bcbacc0"
      },
      "execution_count": null,
      "outputs": [
        {
          "output_type": "stream",
          "name": "stderr",
          "text": [
            "<ipython-input-7-dbb665e4361f>:1: FutureWarning: Passing a set as an indexer is deprecated and will raise in a future version. Use a list instead.\n",
            "  features = data[all_columns]\n"
          ]
        }
      ]
    },
    {
      "cell_type": "markdown",
      "source": [
        "# Wrap the ANN around a custom sklearn classifier"
      ],
      "metadata": {
        "id": "jwmngfUWyNpg"
      }
    },
    {
      "cell_type": "code",
      "source": [
        "class ANNClassifier(BaseEstimator, ClassifierMixin):\n",
        "    def __init__(self, in_features=10, out_features=2, num_hidden=1, \\\n",
        "                 num_neurons=16, regularizer='l2',\n",
        "                 reg_param=1e-4, batch_norm=False, epochs=100, \\\n",
        "                 early_stopping=True, verbose=1):\n",
        "        self.in_features = in_features\n",
        "        self.out_features = out_features\n",
        "        self.num_hidden = num_hidden\n",
        "        self.num_neurons = num_neurons\n",
        "        self.regularizer = regularizer\n",
        "        self.regularizer_func = regularizers.l2 if regularizer=='l2' else regularizers.l1\n",
        "        self.reg_param = reg_param\n",
        "        self.batch_norm = batch_norm\n",
        "        self.epochs = epochs\n",
        "        self.early_stopping = early_stopping\n",
        "        self.verbose = verbose\n",
        "\n",
        "        # Build the ANN\n",
        "        self.model = ANNClassifier.build_model(in_features, out_features, \\\n",
        "                                               self.num_hidden, \\\n",
        "                                               self.num_neurons, \\\n",
        "                                               self.regularizer_func, \\\n",
        "                                               self.reg_param, \\\n",
        "                                               self.batch_norm)\n",
        "\n",
        "    @staticmethod\n",
        "    def build_model(in_features, out_features, \\\n",
        "                    num_hidden, num_neurons, \\\n",
        "                    regularizer_func, reg_param, batch_norm):\n",
        "        inputs = Input(shape=(in_features, ))\n",
        "        outputs = inputs\n",
        "\n",
        "        for i in range(num_hidden):\n",
        "            outputs = Dense(num_neurons, kernel_regularizer=regularizer_func(reg_param), activation='relu')(outputs)\n",
        "            if(batch_norm):\n",
        "                outputs = BatchNormalization()(outputs)\n",
        "\n",
        "        outputs = Dense(out_features, activation='softmax')(outputs)\n",
        "        model = Model(inputs=inputs, outputs=outputs, name='ANNClassifier')\n",
        "\n",
        "        return model\n",
        "\n",
        "    def fit(self, X, Y):\n",
        "        # Split into training and validating sets\n",
        "        X_train, X_val, Y_train, Y_val = train_test_split(X, Y, test_size=1/3)\n",
        "\n",
        "        # Specifies callbacks list\n",
        "        callbacks = [\n",
        "            ModelCheckpoint('model.weights.hdf5', save_best_only=True, verbose=self.verbose)\n",
        "        ]\n",
        "\n",
        "        # If early stopping is on, append early stopping callback to list\n",
        "        if(self.early_stopping):\n",
        "            callbacks.append(EarlyStopping(monitor='val_loss', patience=10, verbose=self.verbose))\n",
        "\n",
        "        # Configure training process\n",
        "        adam = Adam(lr=0.001, amsgrad=True)\n",
        "        loss = SparseCategoricalCrossentropy()\n",
        "        accuracy = SparseCategoricalAccuracy()\n",
        "\n",
        "        # Compile the model then train\n",
        "        self.model.compile(optimizer=adam, loss=loss, metrics=[accuracy])\n",
        "        self.model.fit(X_train, Y_train, validation_data=(X_val, Y_val), epochs=self.epochs,\n",
        "                       callbacks=callbacks, verbose=self.verbose)\n",
        "\n",
        "    def predict(self, X):\n",
        "        predictions = self.model.predict(X)\n",
        "        predictions = np.argmax(predictions, axis=1)\n",
        "\n",
        "        return predictions"
      ],
      "metadata": {
        "id": "IlWa0ZscE71m"
      },
      "execution_count": null,
      "outputs": []
    },
    {
      "cell_type": "markdown",
      "source": [
        "# Train a sample ANN"
      ],
      "metadata": {
        "id": "hyzzFQ80yTjK"
      }
    },
    {
      "cell_type": "code",
      "source": [
        "in_features = features.shape[1]\n",
        "out_features = len(np.unique(targets))\n",
        "\n",
        "ann = ANNClassifier(in_features, out_features, epochs=10, verbose=1)\n",
        "ann.fit(X_train, Y_train)"
      ],
      "metadata": {
        "colab": {
          "base_uri": "https://localhost:8080/"
        },
        "id": "73duaUGnFAdJ",
        "outputId": "551a4551-8efa-45f8-93d8-b7dea145dff8"
      },
      "execution_count": null,
      "outputs": [
        {
          "output_type": "stream",
          "name": "stderr",
          "text": [
            "WARNING:absl:`lr` is deprecated in Keras optimizer, please use `learning_rate` or use the legacy optimizer, e.g.,tf.keras.optimizers.legacy.Adam.\n"
          ]
        },
        {
          "output_type": "stream",
          "name": "stdout",
          "text": [
            "Epoch 1/10\n",
            "849/849 [==============================] - ETA: 0s - loss: 1.0627 - sparse_categorical_accuracy: 0.4730\n",
            "Epoch 1: val_loss improved from inf to 0.98781, saving model to model.weights.hdf5\n",
            "849/849 [==============================] - 6s 5ms/step - loss: 1.0627 - sparse_categorical_accuracy: 0.4730 - val_loss: 0.9878 - val_sparse_categorical_accuracy: 0.4942\n",
            "Epoch 2/10\n",
            " 29/849 [>.............................] - ETA: 2s - loss: 0.9732 - sparse_categorical_accuracy: 0.5011"
          ]
        },
        {
          "output_type": "stream",
          "name": "stderr",
          "text": [
            "/usr/local/lib/python3.10/dist-packages/keras/src/engine/training.py:3103: UserWarning: You are saving your model as an HDF5 file via `model.save()`. This file format is considered legacy. We recommend using instead the native Keras format, e.g. `model.save('my_model.keras')`.\n",
            "  saving_api.save_model(\n"
          ]
        },
        {
          "output_type": "stream",
          "name": "stdout",
          "text": [
            "849/849 [==============================] - ETA: 0s - loss: 0.9601 - sparse_categorical_accuracy: 0.5054\n",
            "Epoch 2: val_loss improved from 0.98781 to 0.95168, saving model to model.weights.hdf5\n",
            "849/849 [==============================] - 7s 8ms/step - loss: 0.9601 - sparse_categorical_accuracy: 0.5054 - val_loss: 0.9517 - val_sparse_categorical_accuracy: 0.4952\n",
            "Epoch 3/10\n",
            "833/849 [============================>.] - ETA: 0s - loss: 0.9295 - sparse_categorical_accuracy: 0.5095\n",
            "Epoch 3: val_loss improved from 0.95168 to 0.92660, saving model to model.weights.hdf5\n",
            "849/849 [==============================] - 3s 3ms/step - loss: 0.9296 - sparse_categorical_accuracy: 0.5090 - val_loss: 0.9266 - val_sparse_categorical_accuracy: 0.5008\n",
            "Epoch 4/10\n",
            "840/849 [============================>.] - ETA: 0s - loss: 0.9093 - sparse_categorical_accuracy: 0.5156\n",
            "Epoch 4: val_loss improved from 0.92660 to 0.90890, saving model to model.weights.hdf5\n",
            "849/849 [==============================] - 2s 3ms/step - loss: 0.9093 - sparse_categorical_accuracy: 0.5155 - val_loss: 0.9089 - val_sparse_categorical_accuracy: 0.5034\n",
            "Epoch 5/10\n",
            "830/849 [============================>.] - ETA: 0s - loss: 0.8949 - sparse_categorical_accuracy: 0.5175\n",
            "Epoch 5: val_loss improved from 0.90890 to 0.89652, saving model to model.weights.hdf5\n",
            "849/849 [==============================] - 3s 3ms/step - loss: 0.8955 - sparse_categorical_accuracy: 0.5169 - val_loss: 0.8965 - val_sparse_categorical_accuracy: 0.5056\n",
            "Epoch 6/10\n",
            "844/849 [============================>.] - ETA: 0s - loss: 0.8847 - sparse_categorical_accuracy: 0.5177\n",
            "Epoch 6: val_loss improved from 0.89652 to 0.88775, saving model to model.weights.hdf5\n",
            "849/849 [==============================] - 6s 6ms/step - loss: 0.8847 - sparse_categorical_accuracy: 0.5177 - val_loss: 0.8877 - val_sparse_categorical_accuracy: 0.5056\n",
            "Epoch 7/10\n",
            "841/849 [============================>.] - ETA: 0s - loss: 0.8760 - sparse_categorical_accuracy: 0.5178\n",
            "Epoch 7: val_loss improved from 0.88775 to 0.88001, saving model to model.weights.hdf5\n",
            "849/849 [==============================] - 3s 4ms/step - loss: 0.8758 - sparse_categorical_accuracy: 0.5180 - val_loss: 0.8800 - val_sparse_categorical_accuracy: 0.5106\n",
            "Epoch 8/10\n",
            "849/849 [==============================] - ETA: 0s - loss: 0.8686 - sparse_categorical_accuracy: 0.5186\n",
            "Epoch 8: val_loss improved from 0.88001 to 0.87435, saving model to model.weights.hdf5\n",
            "849/849 [==============================] - 4s 5ms/step - loss: 0.8686 - sparse_categorical_accuracy: 0.5186 - val_loss: 0.8744 - val_sparse_categorical_accuracy: 0.5097\n",
            "Epoch 9/10\n",
            "841/849 [============================>.] - ETA: 0s - loss: 0.8626 - sparse_categorical_accuracy: 0.5192\n",
            "Epoch 9: val_loss improved from 0.87435 to 0.86972, saving model to model.weights.hdf5\n",
            "849/849 [==============================] - 8s 10ms/step - loss: 0.8625 - sparse_categorical_accuracy: 0.5191 - val_loss: 0.8697 - val_sparse_categorical_accuracy: 0.5084\n",
            "Epoch 10/10\n",
            "849/849 [==============================] - ETA: 0s - loss: 0.8583 - sparse_categorical_accuracy: 0.5197\n",
            "Epoch 10: val_loss improved from 0.86972 to 0.86606, saving model to model.weights.hdf5\n",
            "849/849 [==============================] - 5s 6ms/step - loss: 0.8583 - sparse_categorical_accuracy: 0.5197 - val_loss: 0.8661 - val_sparse_categorical_accuracy: 0.5072\n"
          ]
        }
      ]
    },
    {
      "cell_type": "markdown",
      "source": [
        "# Fine-tuning the ANN"
      ],
      "metadata": {
        "id": "2UPUNLmryW17"
      }
    },
    {
      "cell_type": "code",
      "source": [
        "param_grid = {\n",
        "    'num_hidden' : [1, 2],\n",
        "    'num_neurons' : [8, 16],\n",
        "    'reg_param' : [2e-4, 2e-3]\n",
        "}\n",
        "\n",
        "clf = ANNClassifier(in_features=in_features, out_features=out_features, verbose=1, epochs=3)\n",
        "gridsearchcv = GridSearchCV(clf, param_grid, cv=3, scoring='accuracy', return_train_score=True, verbose=3)\n",
        "gridsearchcv.fit(X_train, Y_train)\n",
        "best_params = gridsearchcv.best_params_"
      ],
      "metadata": {
        "colab": {
          "base_uri": "https://localhost:8080/"
        },
        "id": "u5AmoxlvFIQh",
        "outputId": "efefdaae-684a-4700-9d38-9add1fb652a2"
      },
      "execution_count": null,
      "outputs": [
        {
          "output_type": "stream",
          "name": "stderr",
          "text": [
            "WARNING:absl:`lr` is deprecated in Keras optimizer, please use `learning_rate` or use the legacy optimizer, e.g.,tf.keras.optimizers.legacy.Adam.\n"
          ]
        },
        {
          "output_type": "stream",
          "name": "stdout",
          "text": [
            "Fitting 3 folds for each of 8 candidates, totalling 24 fits\n",
            "Epoch 1/3\n",
            "547/566 [===========================>..] - ETA: 0s - loss: 1.1971 - sparse_categorical_accuracy: 0.4233\n",
            "Epoch 1: val_loss improved from inf to 1.03330, saving model to model.weights.hdf5\n",
            "566/566 [==============================] - 3s 3ms/step - loss: 1.1904 - sparse_categorical_accuracy: 0.4261 - val_loss: 1.0333 - val_sparse_categorical_accuracy: 0.4773\n",
            "Epoch 2/3\n",
            " 76/566 [===>..........................] - ETA: 0s - loss: 1.0240 - sparse_categorical_accuracy: 0.4807"
          ]
        },
        {
          "output_type": "stream",
          "name": "stderr",
          "text": [
            "/usr/local/lib/python3.10/dist-packages/keras/src/engine/training.py:3103: UserWarning: You are saving your model as an HDF5 file via `model.save()`. This file format is considered legacy. We recommend using instead the native Keras format, e.g. `model.save('my_model.keras')`.\n",
            "  saving_api.save_model(\n"
          ]
        },
        {
          "output_type": "stream",
          "name": "stdout",
          "text": [
            "565/566 [============================>.] - ETA: 0s - loss: 0.9972 - sparse_categorical_accuracy: 0.4937\n",
            "Epoch 2: val_loss improved from 1.03330 to 0.98863, saving model to model.weights.hdf5\n",
            "566/566 [==============================] - 2s 4ms/step - loss: 0.9970 - sparse_categorical_accuracy: 0.4938 - val_loss: 0.9886 - val_sparse_categorical_accuracy: 0.4868\n",
            "Epoch 3/3\n",
            "552/566 [============================>.] - ETA: 0s - loss: 0.9619 - sparse_categorical_accuracy: 0.5055\n",
            "Epoch 3: val_loss improved from 0.98863 to 0.96561, saving model to model.weights.hdf5\n",
            "566/566 [==============================] - 3s 5ms/step - loss: 0.9609 - sparse_categorical_accuracy: 0.5061 - val_loss: 0.9656 - val_sparse_categorical_accuracy: 0.4925\n",
            "425/425 [==============================] - 1s 2ms/step\n",
            "849/849 [==============================] - 2s 2ms/step\n"
          ]
        },
        {
          "output_type": "stream",
          "name": "stderr",
          "text": [
            "WARNING:absl:`lr` is deprecated in Keras optimizer, please use `learning_rate` or use the legacy optimizer, e.g.,tf.keras.optimizers.legacy.Adam.\n"
          ]
        },
        {
          "output_type": "stream",
          "name": "stdout",
          "text": [
            "[CV 1/3] END num_hidden=1, num_neurons=8, reg_param=0.0002;, score=(train=0.505, test=0.500) total time=  12.4s\n",
            "Epoch 1/3\n",
            "559/566 [============================>.] - ETA: 0s - loss: 1.1699 - sparse_categorical_accuracy: 0.4355\n",
            "Epoch 1: val_loss improved from inf to 1.01833, saving model to model.weights.hdf5\n",
            "566/566 [==============================] - 3s 5ms/step - loss: 1.1680 - sparse_categorical_accuracy: 0.4362 - val_loss: 1.0183 - val_sparse_categorical_accuracy: 0.4959\n",
            "Epoch 2/3\n",
            " 42/566 [=>............................] - ETA: 1s - loss: 1.0205 - sparse_categorical_accuracy: 0.4814"
          ]
        },
        {
          "output_type": "stream",
          "name": "stderr",
          "text": [
            "/usr/local/lib/python3.10/dist-packages/keras/src/engine/training.py:3103: UserWarning: You are saving your model as an HDF5 file via `model.save()`. This file format is considered legacy. We recommend using instead the native Keras format, e.g. `model.save('my_model.keras')`.\n",
            "  saving_api.save_model(\n"
          ]
        },
        {
          "output_type": "stream",
          "name": "stdout",
          "text": [
            "558/566 [============================>.] - ETA: 0s - loss: 0.9952 - sparse_categorical_accuracy: 0.5004\n",
            "Epoch 2: val_loss improved from 1.01833 to 0.98177, saving model to model.weights.hdf5\n",
            "566/566 [==============================] - 3s 6ms/step - loss: 0.9952 - sparse_categorical_accuracy: 0.5004 - val_loss: 0.9818 - val_sparse_categorical_accuracy: 0.5007\n",
            "Epoch 3/3\n",
            "562/566 [============================>.] - ETA: 0s - loss: 0.9646 - sparse_categorical_accuracy: 0.5099\n",
            "Epoch 3: val_loss improved from 0.98177 to 0.95795, saving model to model.weights.hdf5\n",
            "566/566 [==============================] - 2s 4ms/step - loss: 0.9649 - sparse_categorical_accuracy: 0.5096 - val_loss: 0.9580 - val_sparse_categorical_accuracy: 0.5024\n",
            "425/425 [==============================] - 1s 2ms/step\n",
            "849/849 [==============================] - 1s 1ms/step\n"
          ]
        },
        {
          "output_type": "stream",
          "name": "stderr",
          "text": [
            "WARNING:absl:`lr` is deprecated in Keras optimizer, please use `learning_rate` or use the legacy optimizer, e.g.,tf.keras.optimizers.legacy.Adam.\n"
          ]
        },
        {
          "output_type": "stream",
          "name": "stdout",
          "text": [
            "[CV 2/3] END num_hidden=1, num_neurons=8, reg_param=0.0002;, score=(train=0.506, test=0.507) total time=   9.8s\n",
            "Epoch 1/3\n",
            "555/566 [============================>.] - ETA: 0s - loss: 1.1357 - sparse_categorical_accuracy: 0.4476\n",
            "Epoch 1: val_loss improved from inf to 1.01653, saving model to model.weights.hdf5\n",
            "566/566 [==============================] - 3s 3ms/step - loss: 1.1349 - sparse_categorical_accuracy: 0.4474 - val_loss: 1.0165 - val_sparse_categorical_accuracy: 0.4916\n",
            "Epoch 2/3\n",
            " 89/566 [===>..........................] - ETA: 0s - loss: 1.0126 - sparse_categorical_accuracy: 0.4986"
          ]
        },
        {
          "output_type": "stream",
          "name": "stderr",
          "text": [
            "/usr/local/lib/python3.10/dist-packages/keras/src/engine/training.py:3103: UserWarning: You are saving your model as an HDF5 file via `model.save()`. This file format is considered legacy. We recommend using instead the native Keras format, e.g. `model.save('my_model.keras')`.\n",
            "  saving_api.save_model(\n"
          ]
        },
        {
          "output_type": "stream",
          "name": "stdout",
          "text": [
            "554/566 [============================>.] - ETA: 0s - loss: 1.0008 - sparse_categorical_accuracy: 0.4955\n",
            "Epoch 2: val_loss improved from 1.01653 to 0.97665, saving model to model.weights.hdf5\n",
            "566/566 [==============================] - 2s 3ms/step - loss: 1.0007 - sparse_categorical_accuracy: 0.4957 - val_loss: 0.9767 - val_sparse_categorical_accuracy: 0.5008\n",
            "Epoch 3/3\n",
            "553/566 [============================>.] - ETA: 0s - loss: 0.9674 - sparse_categorical_accuracy: 0.5037\n",
            "Epoch 3: val_loss improved from 0.97665 to 0.95337, saving model to model.weights.hdf5\n",
            "566/566 [==============================] - 3s 5ms/step - loss: 0.9674 - sparse_categorical_accuracy: 0.5039 - val_loss: 0.9534 - val_sparse_categorical_accuracy: 0.4969\n",
            "425/425 [==============================] - 1s 2ms/step\n",
            "849/849 [==============================] - 2s 2ms/step\n"
          ]
        },
        {
          "output_type": "stream",
          "name": "stderr",
          "text": [
            "WARNING:absl:`lr` is deprecated in Keras optimizer, please use `learning_rate` or use the legacy optimizer, e.g.,tf.keras.optimizers.legacy.Adam.\n"
          ]
        },
        {
          "output_type": "stream",
          "name": "stdout",
          "text": [
            "[CV 3/3] END num_hidden=1, num_neurons=8, reg_param=0.0002;, score=(train=0.501, test=0.491) total time=  12.0s\n",
            "Epoch 1/3\n",
            "539/566 [===========================>..] - ETA: 0s - loss: 1.0880 - sparse_categorical_accuracy: 0.4788\n",
            "Epoch 1: val_loss improved from inf to 1.00083, saving model to model.weights.hdf5\n",
            "566/566 [==============================] - 2s 3ms/step - loss: 1.0849 - sparse_categorical_accuracy: 0.4794 - val_loss: 1.0008 - val_sparse_categorical_accuracy: 0.5047\n",
            "Epoch 2/3\n",
            " 74/566 [==>...........................] - ETA: 1s - loss: 0.9909 - sparse_categorical_accuracy: 0.5106"
          ]
        },
        {
          "output_type": "stream",
          "name": "stderr",
          "text": [
            "/usr/local/lib/python3.10/dist-packages/keras/src/engine/training.py:3103: UserWarning: You are saving your model as an HDF5 file via `model.save()`. This file format is considered legacy. We recommend using instead the native Keras format, e.g. `model.save('my_model.keras')`.\n",
            "  saving_api.save_model(\n"
          ]
        },
        {
          "output_type": "stream",
          "name": "stdout",
          "text": [
            "559/566 [============================>.] - ETA: 0s - loss: 0.9715 - sparse_categorical_accuracy: 0.5041\n",
            "Epoch 2: val_loss improved from 1.00083 to 0.96227, saving model to model.weights.hdf5\n",
            "566/566 [==============================] - 2s 3ms/step - loss: 0.9714 - sparse_categorical_accuracy: 0.5034 - val_loss: 0.9623 - val_sparse_categorical_accuracy: 0.5054\n",
            "Epoch 3/3\n",
            "549/566 [============================>.] - ETA: 0s - loss: 0.9424 - sparse_categorical_accuracy: 0.5079\n",
            "Epoch 3: val_loss improved from 0.96227 to 0.93888, saving model to model.weights.hdf5\n",
            "566/566 [==============================] - 2s 4ms/step - loss: 0.9430 - sparse_categorical_accuracy: 0.5078 - val_loss: 0.9389 - val_sparse_categorical_accuracy: 0.5048\n",
            "425/425 [==============================] - 1s 2ms/step\n",
            "849/849 [==============================] - 2s 2ms/step\n"
          ]
        },
        {
          "output_type": "stream",
          "name": "stderr",
          "text": [
            "WARNING:absl:`lr` is deprecated in Keras optimizer, please use `learning_rate` or use the legacy optimizer, e.g.,tf.keras.optimizers.legacy.Adam.\n"
          ]
        },
        {
          "output_type": "stream",
          "name": "stdout",
          "text": [
            "[CV 1/3] END num_hidden=1, num_neurons=8, reg_param=0.002;, score=(train=0.508, test=0.502) total time=   8.3s\n",
            "Epoch 1/3\n",
            "547/566 [===========================>..] - ETA: 0s - loss: 1.0931 - sparse_categorical_accuracy: 0.4633\n",
            "Epoch 1: val_loss improved from inf to 1.00358, saving model to model.weights.hdf5\n",
            "566/566 [==============================] - 3s 4ms/step - loss: 1.0899 - sparse_categorical_accuracy: 0.4642 - val_loss: 1.0036 - val_sparse_categorical_accuracy: 0.4939\n",
            "Epoch 2/3\n",
            " 75/566 [==>...........................] - ETA: 1s - loss: 1.0010 - sparse_categorical_accuracy: 0.5004"
          ]
        },
        {
          "output_type": "stream",
          "name": "stderr",
          "text": [
            "/usr/local/lib/python3.10/dist-packages/keras/src/engine/training.py:3103: UserWarning: You are saving your model as an HDF5 file via `model.save()`. This file format is considered legacy. We recommend using instead the native Keras format, e.g. `model.save('my_model.keras')`.\n",
            "  saving_api.save_model(\n"
          ]
        },
        {
          "output_type": "stream",
          "name": "stdout",
          "text": [
            "554/566 [============================>.] - ETA: 0s - loss: 0.9785 - sparse_categorical_accuracy: 0.4962\n",
            "Epoch 2: val_loss improved from 1.00358 to 0.96997, saving model to model.weights.hdf5\n",
            "566/566 [==============================] - 2s 3ms/step - loss: 0.9786 - sparse_categorical_accuracy: 0.4959 - val_loss: 0.9700 - val_sparse_categorical_accuracy: 0.4942\n",
            "Epoch 3/3\n",
            "553/566 [============================>.] - ETA: 0s - loss: 0.9527 - sparse_categorical_accuracy: 0.4998\n",
            "Epoch 3: val_loss improved from 0.96997 to 0.94907, saving model to model.weights.hdf5\n",
            "566/566 [==============================] - 2s 4ms/step - loss: 0.9526 - sparse_categorical_accuracy: 0.4998 - val_loss: 0.9491 - val_sparse_categorical_accuracy: 0.5018\n",
            "425/425 [==============================] - 2s 4ms/step\n",
            "849/849 [==============================] - 2s 2ms/step\n"
          ]
        },
        {
          "output_type": "stream",
          "name": "stderr",
          "text": [
            "WARNING:absl:`lr` is deprecated in Keras optimizer, please use `learning_rate` or use the legacy optimizer, e.g.,tf.keras.optimizers.legacy.Adam.\n"
          ]
        },
        {
          "output_type": "stream",
          "name": "stdout",
          "text": [
            "[CV 2/3] END num_hidden=1, num_neurons=8, reg_param=0.002;, score=(train=0.504, test=0.497) total time=   9.3s\n",
            "Epoch 1/3\n",
            "560/566 [============================>.] - ETA: 0s - loss: 1.2184 - sparse_categorical_accuracy: 0.4304\n",
            "Epoch 1: val_loss improved from inf to 1.04097, saving model to model.weights.hdf5\n",
            "566/566 [==============================] - 3s 5ms/step - loss: 1.2174 - sparse_categorical_accuracy: 0.4309 - val_loss: 1.0410 - val_sparse_categorical_accuracy: 0.4951\n",
            "Epoch 2/3\n",
            " 46/566 [=>............................] - ETA: 1s - loss: 1.0463 - sparse_categorical_accuracy: 0.4885"
          ]
        },
        {
          "output_type": "stream",
          "name": "stderr",
          "text": [
            "/usr/local/lib/python3.10/dist-packages/keras/src/engine/training.py:3103: UserWarning: You are saving your model as an HDF5 file via `model.save()`. This file format is considered legacy. We recommend using instead the native Keras format, e.g. `model.save('my_model.keras')`.\n",
            "  saving_api.save_model(\n"
          ]
        },
        {
          "output_type": "stream",
          "name": "stdout",
          "text": [
            "565/566 [============================>.] - ETA: 0s - loss: 1.0133 - sparse_categorical_accuracy: 0.4964\n",
            "Epoch 2: val_loss improved from 1.04097 to 0.98195, saving model to model.weights.hdf5\n",
            "566/566 [==============================] - 3s 5ms/step - loss: 1.0133 - sparse_categorical_accuracy: 0.4964 - val_loss: 0.9820 - val_sparse_categorical_accuracy: 0.5046\n",
            "Epoch 3/3\n",
            "565/566 [============================>.] - ETA: 0s - loss: 0.9723 - sparse_categorical_accuracy: 0.5050\n",
            "Epoch 3: val_loss improved from 0.98195 to 0.95191, saving model to model.weights.hdf5\n",
            "566/566 [==============================] - 4s 6ms/step - loss: 0.9722 - sparse_categorical_accuracy: 0.5050 - val_loss: 0.9519 - val_sparse_categorical_accuracy: 0.5029\n",
            "425/425 [==============================] - 1s 3ms/step\n",
            "849/849 [==============================] - 2s 2ms/step\n"
          ]
        },
        {
          "output_type": "stream",
          "name": "stderr",
          "text": [
            "WARNING:absl:`lr` is deprecated in Keras optimizer, please use `learning_rate` or use the legacy optimizer, e.g.,tf.keras.optimizers.legacy.Adam.\n"
          ]
        },
        {
          "output_type": "stream",
          "name": "stdout",
          "text": [
            "[CV 3/3] END num_hidden=1, num_neurons=8, reg_param=0.002;, score=(train=0.512, test=0.512) total time=  12.4s\n",
            "Epoch 1/3\n",
            "551/566 [============================>.] - ETA: 0s - loss: 1.1262 - sparse_categorical_accuracy: 0.4815\n",
            "Epoch 1: val_loss improved from inf to 1.02854, saving model to model.weights.hdf5\n",
            "566/566 [==============================] - 3s 4ms/step - loss: 1.1236 - sparse_categorical_accuracy: 0.4815 - val_loss: 1.0285 - val_sparse_categorical_accuracy: 0.4996\n",
            "Epoch 2/3\n",
            " 84/566 [===>..........................] - ETA: 0s - loss: 1.0269 - sparse_categorical_accuracy: 0.4881"
          ]
        },
        {
          "output_type": "stream",
          "name": "stderr",
          "text": [
            "/usr/local/lib/python3.10/dist-packages/keras/src/engine/training.py:3103: UserWarning: You are saving your model as an HDF5 file via `model.save()`. This file format is considered legacy. We recommend using instead the native Keras format, e.g. `model.save('my_model.keras')`.\n",
            "  saving_api.save_model(\n"
          ]
        },
        {
          "output_type": "stream",
          "name": "stdout",
          "text": [
            "549/566 [============================>.] - ETA: 0s - loss: 0.9988 - sparse_categorical_accuracy: 0.5048\n",
            "Epoch 2: val_loss improved from 1.02854 to 0.98897, saving model to model.weights.hdf5\n",
            "566/566 [==============================] - 2s 3ms/step - loss: 0.9982 - sparse_categorical_accuracy: 0.5045 - val_loss: 0.9890 - val_sparse_categorical_accuracy: 0.5006\n",
            "Epoch 3/3\n",
            "553/566 [============================>.] - ETA: 0s - loss: 0.9689 - sparse_categorical_accuracy: 0.5047\n",
            "Epoch 3: val_loss improved from 0.98897 to 0.96472, saving model to model.weights.hdf5\n",
            "566/566 [==============================] - 2s 3ms/step - loss: 0.9687 - sparse_categorical_accuracy: 0.5049 - val_loss: 0.9647 - val_sparse_categorical_accuracy: 0.5065\n",
            "425/425 [==============================] - 1s 3ms/step\n",
            "849/849 [==============================] - 1s 2ms/step\n"
          ]
        },
        {
          "output_type": "stream",
          "name": "stderr",
          "text": [
            "WARNING:absl:`lr` is deprecated in Keras optimizer, please use `learning_rate` or use the legacy optimizer, e.g.,tf.keras.optimizers.legacy.Adam.\n"
          ]
        },
        {
          "output_type": "stream",
          "name": "stdout",
          "text": [
            "[CV 1/3] END num_hidden=1, num_neurons=16, reg_param=0.0002;, score=(train=0.509, test=0.508) total time=  12.5s\n",
            "Epoch 1/3\n",
            "566/566 [==============================] - ETA: 0s - loss: 1.0945 - sparse_categorical_accuracy: 0.4723\n",
            "Epoch 1: val_loss improved from inf to 1.00469, saving model to model.weights.hdf5\n",
            "566/566 [==============================] - 3s 4ms/step - loss: 1.0945 - sparse_categorical_accuracy: 0.4723 - val_loss: 1.0047 - val_sparse_categorical_accuracy: 0.5048\n",
            "Epoch 2/3\n",
            "  5/566 [..............................] - ETA: 7s - loss: 1.0194 - sparse_categorical_accuracy: 0.4875"
          ]
        },
        {
          "output_type": "stream",
          "name": "stderr",
          "text": [
            "/usr/local/lib/python3.10/dist-packages/keras/src/engine/training.py:3103: UserWarning: You are saving your model as an HDF5 file via `model.save()`. This file format is considered legacy. We recommend using instead the native Keras format, e.g. `model.save('my_model.keras')`.\n",
            "  saving_api.save_model(\n"
          ]
        },
        {
          "output_type": "stream",
          "name": "stdout",
          "text": [
            "556/566 [============================>.] - ETA: 0s - loss: 0.9835 - sparse_categorical_accuracy: 0.4959\n",
            "Epoch 2: val_loss improved from 1.00469 to 0.96416, saving model to model.weights.hdf5\n",
            "566/566 [==============================] - 3s 5ms/step - loss: 0.9830 - sparse_categorical_accuracy: 0.4955 - val_loss: 0.9642 - val_sparse_categorical_accuracy: 0.5072\n",
            "Epoch 3/3\n",
            "555/566 [============================>.] - ETA: 0s - loss: 0.9518 - sparse_categorical_accuracy: 0.5013\n",
            "Epoch 3: val_loss improved from 0.96416 to 0.94071, saving model to model.weights.hdf5\n",
            "566/566 [==============================] - 3s 4ms/step - loss: 0.9522 - sparse_categorical_accuracy: 0.5006 - val_loss: 0.9407 - val_sparse_categorical_accuracy: 0.5022\n",
            "425/425 [==============================] - 1s 1ms/step\n",
            "849/849 [==============================] - 2s 2ms/step\n"
          ]
        },
        {
          "output_type": "stream",
          "name": "stderr",
          "text": [
            "WARNING:absl:`lr` is deprecated in Keras optimizer, please use `learning_rate` or use the legacy optimizer, e.g.,tf.keras.optimizers.legacy.Adam.\n"
          ]
        },
        {
          "output_type": "stream",
          "name": "stdout",
          "text": [
            "[CV 2/3] END num_hidden=1, num_neurons=16, reg_param=0.0002;, score=(train=0.502, test=0.504) total time=  12.3s\n",
            "Epoch 1/3\n",
            "548/566 [============================>.] - ETA: 0s - loss: 1.1393 - sparse_categorical_accuracy: 0.4559\n",
            "Epoch 1: val_loss improved from inf to 1.03257, saving model to model.weights.hdf5\n",
            "566/566 [==============================] - 3s 4ms/step - loss: 1.1366 - sparse_categorical_accuracy: 0.4566 - val_loss: 1.0326 - val_sparse_categorical_accuracy: 0.4854\n",
            "Epoch 2/3\n",
            " 56/566 [=>............................] - ETA: 1s - loss: 1.0089 - sparse_categorical_accuracy: 0.4950"
          ]
        },
        {
          "output_type": "stream",
          "name": "stderr",
          "text": [
            "/usr/local/lib/python3.10/dist-packages/keras/src/engine/training.py:3103: UserWarning: You are saving your model as an HDF5 file via `model.save()`. This file format is considered legacy. We recommend using instead the native Keras format, e.g. `model.save('my_model.keras')`.\n",
            "  saving_api.save_model(\n"
          ]
        },
        {
          "output_type": "stream",
          "name": "stdout",
          "text": [
            "556/566 [============================>.] - ETA: 0s - loss: 0.9967 - sparse_categorical_accuracy: 0.5008\n",
            "Epoch 2: val_loss improved from 1.03257 to 0.98532, saving model to model.weights.hdf5\n",
            "566/566 [==============================] - 2s 4ms/step - loss: 0.9967 - sparse_categorical_accuracy: 0.5010 - val_loss: 0.9853 - val_sparse_categorical_accuracy: 0.4938\n",
            "Epoch 3/3\n",
            "564/566 [============================>.] - ETA: 0s - loss: 0.9617 - sparse_categorical_accuracy: 0.5069\n",
            "Epoch 3: val_loss improved from 0.98532 to 0.95847, saving model to model.weights.hdf5\n",
            "566/566 [==============================] - 2s 3ms/step - loss: 0.9616 - sparse_categorical_accuracy: 0.5069 - val_loss: 0.9585 - val_sparse_categorical_accuracy: 0.5031\n",
            "425/425 [==============================] - 1s 2ms/step\n",
            "849/849 [==============================] - 1s 2ms/step\n"
          ]
        },
        {
          "output_type": "stream",
          "name": "stderr",
          "text": [
            "WARNING:absl:`lr` is deprecated in Keras optimizer, please use `learning_rate` or use the legacy optimizer, e.g.,tf.keras.optimizers.legacy.Adam.\n"
          ]
        },
        {
          "output_type": "stream",
          "name": "stdout",
          "text": [
            "[CV 3/3] END num_hidden=1, num_neurons=16, reg_param=0.0002;, score=(train=0.507, test=0.506) total time=  12.3s\n",
            "Epoch 1/3\n",
            "557/566 [============================>.] - ETA: 0s - loss: 1.1008 - sparse_categorical_accuracy: 0.4564\n",
            "Epoch 1: val_loss improved from inf to 1.01390, saving model to model.weights.hdf5\n",
            "566/566 [==============================] - 3s 4ms/step - loss: 1.1006 - sparse_categorical_accuracy: 0.4559 - val_loss: 1.0139 - val_sparse_categorical_accuracy: 0.4888\n",
            "Epoch 2/3\n",
            " 54/566 [=>............................] - ETA: 1s - loss: 0.9908 - sparse_categorical_accuracy: 0.5052"
          ]
        },
        {
          "output_type": "stream",
          "name": "stderr",
          "text": [
            "/usr/local/lib/python3.10/dist-packages/keras/src/engine/training.py:3103: UserWarning: You are saving your model as an HDF5 file via `model.save()`. This file format is considered legacy. We recommend using instead the native Keras format, e.g. `model.save('my_model.keras')`.\n",
            "  saving_api.save_model(\n"
          ]
        },
        {
          "output_type": "stream",
          "name": "stdout",
          "text": [
            "564/566 [============================>.] - ETA: 0s - loss: 0.9901 - sparse_categorical_accuracy: 0.5029\n",
            "Epoch 2: val_loss improved from 1.01390 to 0.98060, saving model to model.weights.hdf5\n",
            "566/566 [==============================] - 3s 6ms/step - loss: 0.9907 - sparse_categorical_accuracy: 0.5027 - val_loss: 0.9806 - val_sparse_categorical_accuracy: 0.5011\n",
            "Epoch 3/3\n",
            "555/566 [============================>.] - ETA: 0s - loss: 0.9633 - sparse_categorical_accuracy: 0.5067\n",
            "Epoch 3: val_loss improved from 0.98060 to 0.95954, saving model to model.weights.hdf5\n",
            "566/566 [==============================] - 2s 4ms/step - loss: 0.9623 - sparse_categorical_accuracy: 0.5074 - val_loss: 0.9595 - val_sparse_categorical_accuracy: 0.5005\n",
            "425/425 [==============================] - 1s 1ms/step\n",
            "849/849 [==============================] - 2s 2ms/step\n"
          ]
        },
        {
          "output_type": "stream",
          "name": "stderr",
          "text": [
            "WARNING:absl:`lr` is deprecated in Keras optimizer, please use `learning_rate` or use the legacy optimizer, e.g.,tf.keras.optimizers.legacy.Adam.\n"
          ]
        },
        {
          "output_type": "stream",
          "name": "stdout",
          "text": [
            "[CV 1/3] END num_hidden=1, num_neurons=16, reg_param=0.002;, score=(train=0.509, test=0.506) total time=  12.3s\n",
            "Epoch 1/3\n",
            "561/566 [============================>.] - ETA: 0s - loss: 1.1050 - sparse_categorical_accuracy: 0.4564\n",
            "Epoch 1: val_loss improved from inf to 1.00117, saving model to model.weights.hdf5\n",
            "566/566 [==============================] - 4s 6ms/step - loss: 1.1045 - sparse_categorical_accuracy: 0.4567 - val_loss: 1.0012 - val_sparse_categorical_accuracy: 0.5077\n",
            "Epoch 2/3\n",
            " 41/566 [=>............................] - ETA: 2s - loss: 0.9891 - sparse_categorical_accuracy: 0.4985"
          ]
        },
        {
          "output_type": "stream",
          "name": "stderr",
          "text": [
            "/usr/local/lib/python3.10/dist-packages/keras/src/engine/training.py:3103: UserWarning: You are saving your model as an HDF5 file via `model.save()`. This file format is considered legacy. We recommend using instead the native Keras format, e.g. `model.save('my_model.keras')`.\n",
            "  saving_api.save_model(\n"
          ]
        },
        {
          "output_type": "stream",
          "name": "stdout",
          "text": [
            "548/566 [============================>.] - ETA: 0s - loss: 0.9830 - sparse_categorical_accuracy: 0.5007\n",
            "Epoch 2: val_loss improved from 1.00117 to 0.96244, saving model to model.weights.hdf5\n",
            "566/566 [==============================] - 2s 4ms/step - loss: 0.9829 - sparse_categorical_accuracy: 0.5004 - val_loss: 0.9624 - val_sparse_categorical_accuracy: 0.5082\n",
            "Epoch 3/3\n",
            "557/566 [============================>.] - ETA: 0s - loss: 0.9541 - sparse_categorical_accuracy: 0.5051\n",
            "Epoch 3: val_loss improved from 0.96244 to 0.94464, saving model to model.weights.hdf5\n",
            "566/566 [==============================] - 2s 3ms/step - loss: 0.9542 - sparse_categorical_accuracy: 0.5053 - val_loss: 0.9446 - val_sparse_categorical_accuracy: 0.5038\n",
            "425/425 [==============================] - 1s 2ms/step\n",
            "849/849 [==============================] - 1s 1ms/step\n"
          ]
        },
        {
          "output_type": "stream",
          "name": "stderr",
          "text": [
            "WARNING:absl:`lr` is deprecated in Keras optimizer, please use `learning_rate` or use the legacy optimizer, e.g.,tf.keras.optimizers.legacy.Adam.\n"
          ]
        },
        {
          "output_type": "stream",
          "name": "stdout",
          "text": [
            "[CV 2/3] END num_hidden=1, num_neurons=16, reg_param=0.002;, score=(train=0.504, test=0.505) total time=   8.9s\n",
            "Epoch 1/3\n",
            "563/566 [============================>.] - ETA: 0s - loss: 1.1640 - sparse_categorical_accuracy: 0.4426\n",
            "Epoch 1: val_loss improved from inf to 1.05066, saving model to model.weights.hdf5\n",
            "566/566 [==============================] - 3s 4ms/step - loss: 1.1636 - sparse_categorical_accuracy: 0.4426 - val_loss: 1.0507 - val_sparse_categorical_accuracy: 0.4840\n",
            "Epoch 2/3\n",
            " 77/566 [===>..........................] - ETA: 0s - loss: 1.0396 - sparse_categorical_accuracy: 0.4939"
          ]
        },
        {
          "output_type": "stream",
          "name": "stderr",
          "text": [
            "/usr/local/lib/python3.10/dist-packages/keras/src/engine/training.py:3103: UserWarning: You are saving your model as an HDF5 file via `model.save()`. This file format is considered legacy. We recommend using instead the native Keras format, e.g. `model.save('my_model.keras')`.\n",
            "  saving_api.save_model(\n"
          ]
        },
        {
          "output_type": "stream",
          "name": "stdout",
          "text": [
            "556/566 [============================>.] - ETA: 0s - loss: 1.0049 - sparse_categorical_accuracy: 0.4961\n",
            "Epoch 2: val_loss improved from 1.05066 to 0.99924, saving model to model.weights.hdf5\n",
            "566/566 [==============================] - 2s 3ms/step - loss: 1.0044 - sparse_categorical_accuracy: 0.4956 - val_loss: 0.9992 - val_sparse_categorical_accuracy: 0.4969\n",
            "Epoch 3/3\n",
            "556/566 [============================>.] - ETA: 0s - loss: 0.9673 - sparse_categorical_accuracy: 0.5057\n",
            "Epoch 3: val_loss improved from 0.99924 to 0.97762, saving model to model.weights.hdf5\n",
            "566/566 [==============================] - 3s 5ms/step - loss: 0.9677 - sparse_categorical_accuracy: 0.5045 - val_loss: 0.9776 - val_sparse_categorical_accuracy: 0.4898\n",
            "425/425 [==============================] - 1s 3ms/step\n",
            "849/849 [==============================] - 1s 2ms/step\n"
          ]
        },
        {
          "output_type": "stream",
          "name": "stderr",
          "text": [
            "WARNING:absl:`lr` is deprecated in Keras optimizer, please use `learning_rate` or use the legacy optimizer, e.g.,tf.keras.optimizers.legacy.Adam.\n"
          ]
        },
        {
          "output_type": "stream",
          "name": "stdout",
          "text": [
            "[CV 3/3] END num_hidden=1, num_neurons=16, reg_param=0.002;, score=(train=0.502, test=0.501) total time=  10.0s\n",
            "Epoch 1/3\n",
            "562/566 [============================>.] - ETA: 0s - loss: 1.0833 - sparse_categorical_accuracy: 0.4832\n",
            "Epoch 1: val_loss improved from inf to 1.02176, saving model to model.weights.hdf5\n",
            "566/566 [==============================] - 3s 5ms/step - loss: 1.0831 - sparse_categorical_accuracy: 0.4830 - val_loss: 1.0218 - val_sparse_categorical_accuracy: 0.4897\n",
            "Epoch 2/3\n",
            " 24/566 [>.............................] - ETA: 2s - loss: 0.9987 - sparse_categorical_accuracy: 0.5260"
          ]
        },
        {
          "output_type": "stream",
          "name": "stderr",
          "text": [
            "/usr/local/lib/python3.10/dist-packages/keras/src/engine/training.py:3103: UserWarning: You are saving your model as an HDF5 file via `model.save()`. This file format is considered legacy. We recommend using instead the native Keras format, e.g. `model.save('my_model.keras')`.\n",
            "  saving_api.save_model(\n"
          ]
        },
        {
          "output_type": "stream",
          "name": "stdout",
          "text": [
            "543/566 [===========================>..] - ETA: 0s - loss: 0.9826 - sparse_categorical_accuracy: 0.5075\n",
            "Epoch 2: val_loss improved from 1.02176 to 0.98323, saving model to model.weights.hdf5\n",
            "566/566 [==============================] - 2s 4ms/step - loss: 0.9821 - sparse_categorical_accuracy: 0.5071 - val_loss: 0.9832 - val_sparse_categorical_accuracy: 0.4966\n",
            "Epoch 3/3\n",
            "542/566 [===========================>..] - ETA: 0s - loss: 0.9551 - sparse_categorical_accuracy: 0.5099\n",
            "Epoch 3: val_loss improved from 0.98323 to 0.96487, saving model to model.weights.hdf5\n",
            "566/566 [==============================] - 2s 4ms/step - loss: 0.9544 - sparse_categorical_accuracy: 0.5097 - val_loss: 0.9649 - val_sparse_categorical_accuracy: 0.4993\n",
            "425/425 [==============================] - 1s 2ms/step\n",
            "849/849 [==============================] - 1s 1ms/step\n"
          ]
        },
        {
          "output_type": "stream",
          "name": "stderr",
          "text": [
            "WARNING:absl:`lr` is deprecated in Keras optimizer, please use `learning_rate` or use the legacy optimizer, e.g.,tf.keras.optimizers.legacy.Adam.\n"
          ]
        },
        {
          "output_type": "stream",
          "name": "stdout",
          "text": [
            "[CV 1/3] END num_hidden=2, num_neurons=8, reg_param=0.0002;, score=(train=0.506, test=0.500) total time=  12.6s\n",
            "Epoch 1/3\n",
            "559/566 [============================>.] - ETA: 0s - loss: 1.1305 - sparse_categorical_accuracy: 0.4517\n",
            "Epoch 1: val_loss improved from inf to 1.01162, saving model to model.weights.hdf5\n",
            "566/566 [==============================] - 3s 3ms/step - loss: 1.1292 - sparse_categorical_accuracy: 0.4522 - val_loss: 1.0116 - val_sparse_categorical_accuracy: 0.4824\n",
            "Epoch 2/3\n",
            " 70/566 [==>...........................] - ETA: 1s - loss: 1.0183 - sparse_categorical_accuracy: 0.4857"
          ]
        },
        {
          "output_type": "stream",
          "name": "stderr",
          "text": [
            "/usr/local/lib/python3.10/dist-packages/keras/src/engine/training.py:3103: UserWarning: You are saving your model as an HDF5 file via `model.save()`. This file format is considered legacy. We recommend using instead the native Keras format, e.g. `model.save('my_model.keras')`.\n",
            "  saving_api.save_model(\n"
          ]
        },
        {
          "output_type": "stream",
          "name": "stdout",
          "text": [
            "556/566 [============================>.] - ETA: 0s - loss: 0.9822 - sparse_categorical_accuracy: 0.5033\n",
            "Epoch 2: val_loss improved from 1.01162 to 0.96724, saving model to model.weights.hdf5\n",
            "566/566 [==============================] - 2s 4ms/step - loss: 0.9823 - sparse_categorical_accuracy: 0.5034 - val_loss: 0.9672 - val_sparse_categorical_accuracy: 0.4998\n",
            "Epoch 3/3\n",
            "551/566 [============================>.] - ETA: 0s - loss: 0.9478 - sparse_categorical_accuracy: 0.5109\n",
            "Epoch 3: val_loss improved from 0.96724 to 0.94626, saving model to model.weights.hdf5\n",
            "566/566 [==============================] - 3s 5ms/step - loss: 0.9482 - sparse_categorical_accuracy: 0.5103 - val_loss: 0.9463 - val_sparse_categorical_accuracy: 0.4984\n",
            "425/425 [==============================] - 1s 2ms/step\n",
            "849/849 [==============================] - 2s 2ms/step\n"
          ]
        },
        {
          "output_type": "stream",
          "name": "stderr",
          "text": [
            "WARNING:absl:`lr` is deprecated in Keras optimizer, please use `learning_rate` or use the legacy optimizer, e.g.,tf.keras.optimizers.legacy.Adam.\n"
          ]
        },
        {
          "output_type": "stream",
          "name": "stdout",
          "text": [
            "[CV 2/3] END num_hidden=2, num_neurons=8, reg_param=0.0002;, score=(train=0.512, test=0.504) total time=  12.4s\n",
            "Epoch 1/3\n",
            "566/566 [==============================] - ETA: 0s - loss: 1.1937 - sparse_categorical_accuracy: 0.4217\n",
            "Epoch 1: val_loss improved from inf to 1.03744, saving model to model.weights.hdf5\n",
            "566/566 [==============================] - 3s 3ms/step - loss: 1.1937 - sparse_categorical_accuracy: 0.4217 - val_loss: 1.0374 - val_sparse_categorical_accuracy: 0.4927\n",
            "Epoch 2/3\n",
            " 51/566 [=>............................] - ETA: 1s - loss: 1.0190 - sparse_categorical_accuracy: 0.4988"
          ]
        },
        {
          "output_type": "stream",
          "name": "stderr",
          "text": [
            "/usr/local/lib/python3.10/dist-packages/keras/src/engine/training.py:3103: UserWarning: You are saving your model as an HDF5 file via `model.save()`. This file format is considered legacy. We recommend using instead the native Keras format, e.g. `model.save('my_model.keras')`.\n",
            "  saving_api.save_model(\n"
          ]
        },
        {
          "output_type": "stream",
          "name": "stdout",
          "text": [
            "553/566 [============================>.] - ETA: 0s - loss: 1.0020 - sparse_categorical_accuracy: 0.4999\n",
            "Epoch 2: val_loss improved from 1.03744 to 0.98937, saving model to model.weights.hdf5\n",
            "566/566 [==============================] - 3s 5ms/step - loss: 1.0019 - sparse_categorical_accuracy: 0.4996 - val_loss: 0.9894 - val_sparse_categorical_accuracy: 0.4912\n",
            "Epoch 3/3\n",
            "560/566 [============================>.] - ETA: 0s - loss: 0.9668 - sparse_categorical_accuracy: 0.5025\n",
            "Epoch 3: val_loss improved from 0.98937 to 0.96617, saving model to model.weights.hdf5\n",
            "566/566 [==============================] - 2s 4ms/step - loss: 0.9667 - sparse_categorical_accuracy: 0.5025 - val_loss: 0.9662 - val_sparse_categorical_accuracy: 0.4927\n",
            "425/425 [==============================] - 1s 2ms/step\n",
            "849/849 [==============================] - 2s 2ms/step\n"
          ]
        },
        {
          "output_type": "stream",
          "name": "stderr",
          "text": [
            "WARNING:absl:`lr` is deprecated in Keras optimizer, please use `learning_rate` or use the legacy optimizer, e.g.,tf.keras.optimizers.legacy.Adam.\n"
          ]
        },
        {
          "output_type": "stream",
          "name": "stdout",
          "text": [
            "[CV 3/3] END num_hidden=2, num_neurons=8, reg_param=0.0002;, score=(train=0.502, test=0.490) total time=   9.3s\n",
            "Epoch 1/3\n",
            "558/566 [============================>.] - ETA: 0s - loss: 1.1797 - sparse_categorical_accuracy: 0.4467\n",
            "Epoch 1: val_loss improved from inf to 1.02516, saving model to model.weights.hdf5\n",
            "566/566 [==============================] - 3s 4ms/step - loss: 1.1778 - sparse_categorical_accuracy: 0.4475 - val_loss: 1.0252 - val_sparse_categorical_accuracy: 0.5003\n",
            "Epoch 2/3\n",
            " 78/566 [===>..........................] - ETA: 0s - loss: 1.0022 - sparse_categorical_accuracy: 0.4896"
          ]
        },
        {
          "output_type": "stream",
          "name": "stderr",
          "text": [
            "/usr/local/lib/python3.10/dist-packages/keras/src/engine/training.py:3103: UserWarning: You are saving your model as an HDF5 file via `model.save()`. This file format is considered legacy. We recommend using instead the native Keras format, e.g. `model.save('my_model.keras')`.\n",
            "  saving_api.save_model(\n"
          ]
        },
        {
          "output_type": "stream",
          "name": "stdout",
          "text": [
            "562/566 [============================>.] - ETA: 0s - loss: 1.0017 - sparse_categorical_accuracy: 0.4948\n",
            "Epoch 2: val_loss improved from 1.02516 to 0.98322, saving model to model.weights.hdf5\n",
            "566/566 [==============================] - 2s 3ms/step - loss: 1.0011 - sparse_categorical_accuracy: 0.4953 - val_loss: 0.9832 - val_sparse_categorical_accuracy: 0.4999\n",
            "Epoch 3/3\n",
            "555/566 [============================>.] - ETA: 0s - loss: 0.9677 - sparse_categorical_accuracy: 0.5021\n",
            "Epoch 3: val_loss improved from 0.98322 to 0.96077, saving model to model.weights.hdf5\n",
            "566/566 [==============================] - 2s 4ms/step - loss: 0.9685 - sparse_categorical_accuracy: 0.5017 - val_loss: 0.9608 - val_sparse_categorical_accuracy: 0.5102\n",
            "425/425 [==============================] - 1s 2ms/step\n",
            "849/849 [==============================] - 2s 2ms/step\n"
          ]
        },
        {
          "output_type": "stream",
          "name": "stderr",
          "text": [
            "WARNING:absl:`lr` is deprecated in Keras optimizer, please use `learning_rate` or use the legacy optimizer, e.g.,tf.keras.optimizers.legacy.Adam.\n"
          ]
        },
        {
          "output_type": "stream",
          "name": "stdout",
          "text": [
            "[CV 1/3] END num_hidden=2, num_neurons=8, reg_param=0.002;, score=(train=0.509, test=0.507) total time=   7.8s\n",
            "Epoch 1/3\n",
            "562/566 [============================>.] - ETA: 0s - loss: 1.1805 - sparse_categorical_accuracy: 0.4249\n",
            "Epoch 1: val_loss improved from inf to 1.02644, saving model to model.weights.hdf5\n",
            "566/566 [==============================] - 2s 3ms/step - loss: 1.1796 - sparse_categorical_accuracy: 0.4250 - val_loss: 1.0264 - val_sparse_categorical_accuracy: 0.4964\n",
            "Epoch 2/3\n",
            " 81/566 [===>..........................] - ETA: 0s - loss: 1.0113 - sparse_categorical_accuracy: 0.4969"
          ]
        },
        {
          "output_type": "stream",
          "name": "stderr",
          "text": [
            "/usr/local/lib/python3.10/dist-packages/keras/src/engine/training.py:3103: UserWarning: You are saving your model as an HDF5 file via `model.save()`. This file format is considered legacy. We recommend using instead the native Keras format, e.g. `model.save('my_model.keras')`.\n",
            "  saving_api.save_model(\n"
          ]
        },
        {
          "output_type": "stream",
          "name": "stdout",
          "text": [
            "563/566 [============================>.] - ETA: 0s - loss: 0.9920 - sparse_categorical_accuracy: 0.4935\n",
            "Epoch 2: val_loss improved from 1.02644 to 0.97471, saving model to model.weights.hdf5\n",
            "566/566 [==============================] - 2s 3ms/step - loss: 0.9917 - sparse_categorical_accuracy: 0.4933 - val_loss: 0.9747 - val_sparse_categorical_accuracy: 0.5075\n",
            "Epoch 3/3\n",
            "551/566 [============================>.] - ETA: 0s - loss: 0.9526 - sparse_categorical_accuracy: 0.5005\n",
            "Epoch 3: val_loss improved from 0.97471 to 0.94300, saving model to model.weights.hdf5\n",
            "566/566 [==============================] - 3s 5ms/step - loss: 0.9522 - sparse_categorical_accuracy: 0.5006 - val_loss: 0.9430 - val_sparse_categorical_accuracy: 0.5108\n",
            "425/425 [==============================] - 1s 2ms/step\n",
            "849/849 [==============================] - 2s 2ms/step\n"
          ]
        },
        {
          "output_type": "stream",
          "name": "stderr",
          "text": [
            "WARNING:absl:`lr` is deprecated in Keras optimizer, please use `learning_rate` or use the legacy optimizer, e.g.,tf.keras.optimizers.legacy.Adam.\n"
          ]
        },
        {
          "output_type": "stream",
          "name": "stdout",
          "text": [
            "[CV 2/3] END num_hidden=2, num_neurons=8, reg_param=0.002;, score=(train=0.507, test=0.510) total time=   8.6s\n",
            "Epoch 1/3\n",
            "540/566 [===========================>..] - ETA: 0s - loss: 1.1321 - sparse_categorical_accuracy: 0.4634\n",
            "Epoch 1: val_loss improved from inf to 1.01426, saving model to model.weights.hdf5\n",
            "566/566 [==============================] - 3s 3ms/step - loss: 1.1271 - sparse_categorical_accuracy: 0.4660 - val_loss: 1.0143 - val_sparse_categorical_accuracy: 0.4975\n",
            "Epoch 2/3\n",
            " 83/566 [===>..........................] - ETA: 0s - loss: 1.0200 - sparse_categorical_accuracy: 0.4932"
          ]
        },
        {
          "output_type": "stream",
          "name": "stderr",
          "text": [
            "/usr/local/lib/python3.10/dist-packages/keras/src/engine/training.py:3103: UserWarning: You are saving your model as an HDF5 file via `model.save()`. This file format is considered legacy. We recommend using instead the native Keras format, e.g. `model.save('my_model.keras')`.\n",
            "  saving_api.save_model(\n"
          ]
        },
        {
          "output_type": "stream",
          "name": "stdout",
          "text": [
            "543/566 [===========================>..] - ETA: 0s - loss: 0.9964 - sparse_categorical_accuracy: 0.4961\n",
            "Epoch 2: val_loss improved from 1.01426 to 0.96812, saving model to model.weights.hdf5\n",
            "566/566 [==============================] - 1s 3ms/step - loss: 0.9942 - sparse_categorical_accuracy: 0.4960 - val_loss: 0.9681 - val_sparse_categorical_accuracy: 0.5010\n",
            "Epoch 3/3\n",
            "555/566 [============================>.] - ETA: 0s - loss: 0.9610 - sparse_categorical_accuracy: 0.5015\n",
            "Epoch 3: val_loss improved from 0.96812 to 0.94479, saving model to model.weights.hdf5\n",
            "566/566 [==============================] - 2s 3ms/step - loss: 0.9603 - sparse_categorical_accuracy: 0.5013 - val_loss: 0.9448 - val_sparse_categorical_accuracy: 0.4987\n",
            "425/425 [==============================] - 1s 2ms/step\n",
            "849/849 [==============================] - 1s 1ms/step\n"
          ]
        },
        {
          "output_type": "stream",
          "name": "stderr",
          "text": [
            "WARNING:absl:`lr` is deprecated in Keras optimizer, please use `learning_rate` or use the legacy optimizer, e.g.,tf.keras.optimizers.legacy.Adam.\n"
          ]
        },
        {
          "output_type": "stream",
          "name": "stdout",
          "text": [
            "[CV 3/3] END num_hidden=2, num_neurons=8, reg_param=0.002;, score=(train=0.503, test=0.496) total time=   7.2s\n",
            "Epoch 1/3\n",
            "554/566 [============================>.] - ETA: 0s - loss: 1.1848 - sparse_categorical_accuracy: 0.4372\n",
            "Epoch 1: val_loss improved from inf to 1.03450, saving model to model.weights.hdf5\n",
            "566/566 [==============================] - 3s 5ms/step - loss: 1.1815 - sparse_categorical_accuracy: 0.4384 - val_loss: 1.0345 - val_sparse_categorical_accuracy: 0.4961\n",
            "Epoch 2/3\n",
            " 41/566 [=>............................] - ETA: 2s - loss: 0.9977 - sparse_categorical_accuracy: 0.5107"
          ]
        },
        {
          "output_type": "stream",
          "name": "stderr",
          "text": [
            "/usr/local/lib/python3.10/dist-packages/keras/src/engine/training.py:3103: UserWarning: You are saving your model as an HDF5 file via `model.save()`. This file format is considered legacy. We recommend using instead the native Keras format, e.g. `model.save('my_model.keras')`.\n",
            "  saving_api.save_model(\n"
          ]
        },
        {
          "output_type": "stream",
          "name": "stdout",
          "text": [
            "549/566 [============================>.] - ETA: 0s - loss: 1.0009 - sparse_categorical_accuracy: 0.5035\n",
            "Epoch 2: val_loss improved from 1.03450 to 0.99361, saving model to model.weights.hdf5\n",
            "566/566 [==============================] - 2s 4ms/step - loss: 1.0002 - sparse_categorical_accuracy: 0.5047 - val_loss: 0.9936 - val_sparse_categorical_accuracy: 0.5045\n",
            "Epoch 3/3\n",
            "556/566 [============================>.] - ETA: 0s - loss: 0.9711 - sparse_categorical_accuracy: 0.5092\n",
            "Epoch 3: val_loss improved from 0.99361 to 0.97366, saving model to model.weights.hdf5\n",
            "566/566 [==============================] - 2s 3ms/step - loss: 0.9703 - sparse_categorical_accuracy: 0.5096 - val_loss: 0.9737 - val_sparse_categorical_accuracy: 0.4968\n",
            "425/425 [==============================] - 1s 1ms/step\n",
            "849/849 [==============================] - 1s 2ms/step\n"
          ]
        },
        {
          "output_type": "stream",
          "name": "stderr",
          "text": [
            "WARNING:absl:`lr` is deprecated in Keras optimizer, please use `learning_rate` or use the legacy optimizer, e.g.,tf.keras.optimizers.legacy.Adam.\n"
          ]
        },
        {
          "output_type": "stream",
          "name": "stdout",
          "text": [
            "[CV 1/3] END num_hidden=2, num_neurons=16, reg_param=0.0002;, score=(train=0.507, test=0.503) total time=   8.4s\n",
            "Epoch 1/3\n",
            "545/566 [===========================>..] - ETA: 0s - loss: 1.2110 - sparse_categorical_accuracy: 0.4507\n",
            "Epoch 1: val_loss improved from inf to 1.03570, saving model to model.weights.hdf5\n",
            "566/566 [==============================] - 3s 4ms/step - loss: 1.2047 - sparse_categorical_accuracy: 0.4518 - val_loss: 1.0357 - val_sparse_categorical_accuracy: 0.5015\n",
            "Epoch 2/3\n",
            " 55/566 [=>............................] - ETA: 1s - loss: 1.0514 - sparse_categorical_accuracy: 0.5091"
          ]
        },
        {
          "output_type": "stream",
          "name": "stderr",
          "text": [
            "/usr/local/lib/python3.10/dist-packages/keras/src/engine/training.py:3103: UserWarning: You are saving your model as an HDF5 file via `model.save()`. This file format is considered legacy. We recommend using instead the native Keras format, e.g. `model.save('my_model.keras')`.\n",
            "  saving_api.save_model(\n"
          ]
        },
        {
          "output_type": "stream",
          "name": "stdout",
          "text": [
            "563/566 [============================>.] - ETA: 0s - loss: 1.0174 - sparse_categorical_accuracy: 0.4998\n",
            "Epoch 2: val_loss improved from 1.03570 to 0.98811, saving model to model.weights.hdf5\n",
            "566/566 [==============================] - 3s 6ms/step - loss: 1.0176 - sparse_categorical_accuracy: 0.4995 - val_loss: 0.9881 - val_sparse_categorical_accuracy: 0.5076\n",
            "Epoch 3/3\n",
            "559/566 [============================>.] - ETA: 0s - loss: 0.9807 - sparse_categorical_accuracy: 0.5031\n",
            "Epoch 3: val_loss improved from 0.98811 to 0.96659, saving model to model.weights.hdf5\n",
            "566/566 [==============================] - 3s 5ms/step - loss: 0.9813 - sparse_categorical_accuracy: 0.5028 - val_loss: 0.9666 - val_sparse_categorical_accuracy: 0.5089\n",
            "425/425 [==============================] - 1s 2ms/step\n",
            "849/849 [==============================] - 2s 2ms/step\n"
          ]
        },
        {
          "output_type": "stream",
          "name": "stderr",
          "text": [
            "WARNING:absl:`lr` is deprecated in Keras optimizer, please use `learning_rate` or use the legacy optimizer, e.g.,tf.keras.optimizers.legacy.Adam.\n"
          ]
        },
        {
          "output_type": "stream",
          "name": "stdout",
          "text": [
            "[CV 2/3] END num_hidden=2, num_neurons=16, reg_param=0.0002;, score=(train=0.509, test=0.501) total time=  11.0s\n",
            "Epoch 1/3\n",
            "548/566 [============================>.] - ETA: 0s - loss: 1.1186 - sparse_categorical_accuracy: 0.4637\n",
            "Epoch 1: val_loss improved from inf to 1.00570, saving model to model.weights.hdf5\n",
            "566/566 [==============================] - 3s 5ms/step - loss: 1.1149 - sparse_categorical_accuracy: 0.4647 - val_loss: 1.0057 - val_sparse_categorical_accuracy: 0.4956\n",
            "Epoch 2/3\n",
            " 67/566 [==>...........................] - ETA: 1s - loss: 0.9926 - sparse_categorical_accuracy: 0.4949"
          ]
        },
        {
          "output_type": "stream",
          "name": "stderr",
          "text": [
            "/usr/local/lib/python3.10/dist-packages/keras/src/engine/training.py:3103: UserWarning: You are saving your model as an HDF5 file via `model.save()`. This file format is considered legacy. We recommend using instead the native Keras format, e.g. `model.save('my_model.keras')`.\n",
            "  saving_api.save_model(\n"
          ]
        },
        {
          "output_type": "stream",
          "name": "stdout",
          "text": [
            "564/566 [============================>.] - ETA: 0s - loss: 0.9891 - sparse_categorical_accuracy: 0.4981\n",
            "Epoch 2: val_loss improved from 1.00570 to 0.97312, saving model to model.weights.hdf5\n",
            "566/566 [==============================] - 3s 5ms/step - loss: 0.9889 - sparse_categorical_accuracy: 0.4983 - val_loss: 0.9731 - val_sparse_categorical_accuracy: 0.5049\n",
            "Epoch 3/3\n",
            "557/566 [============================>.] - ETA: 0s - loss: 0.9609 - sparse_categorical_accuracy: 0.5017\n",
            "Epoch 3: val_loss improved from 0.97312 to 0.95167, saving model to model.weights.hdf5\n",
            "566/566 [==============================] - 2s 4ms/step - loss: 0.9609 - sparse_categorical_accuracy: 0.5014 - val_loss: 0.9517 - val_sparse_categorical_accuracy: 0.5003\n",
            "425/425 [==============================] - 1s 2ms/step\n",
            "849/849 [==============================] - 1s 2ms/step\n"
          ]
        },
        {
          "output_type": "stream",
          "name": "stderr",
          "text": [
            "WARNING:absl:`lr` is deprecated in Keras optimizer, please use `learning_rate` or use the legacy optimizer, e.g.,tf.keras.optimizers.legacy.Adam.\n"
          ]
        },
        {
          "output_type": "stream",
          "name": "stdout",
          "text": [
            "[CV 3/3] END num_hidden=2, num_neurons=16, reg_param=0.0002;, score=(train=0.503, test=0.502) total time=   9.8s\n",
            "Epoch 1/3\n",
            "543/566 [===========================>..] - ETA: 0s - loss: 1.1342 - sparse_categorical_accuracy: 0.4660\n",
            "Epoch 1: val_loss improved from inf to 1.01088, saving model to model.weights.hdf5\n",
            "566/566 [==============================] - 3s 4ms/step - loss: 1.1298 - sparse_categorical_accuracy: 0.4669 - val_loss: 1.0109 - val_sparse_categorical_accuracy: 0.4947\n",
            "Epoch 2/3\n",
            " 69/566 [==>...........................] - ETA: 1s - loss: 1.0101 - sparse_categorical_accuracy: 0.4860"
          ]
        },
        {
          "output_type": "stream",
          "name": "stderr",
          "text": [
            "/usr/local/lib/python3.10/dist-packages/keras/src/engine/training.py:3103: UserWarning: You are saving your model as an HDF5 file via `model.save()`. This file format is considered legacy. We recommend using instead the native Keras format, e.g. `model.save('my_model.keras')`.\n",
            "  saving_api.save_model(\n"
          ]
        },
        {
          "output_type": "stream",
          "name": "stdout",
          "text": [
            "566/566 [==============================] - ETA: 0s - loss: 0.9876 - sparse_categorical_accuracy: 0.4957\n",
            "Epoch 2: val_loss improved from 1.01088 to 0.96630, saving model to model.weights.hdf5\n",
            "566/566 [==============================] - 2s 3ms/step - loss: 0.9876 - sparse_categorical_accuracy: 0.4957 - val_loss: 0.9663 - val_sparse_categorical_accuracy: 0.4955\n",
            "Epoch 3/3\n",
            "566/566 [==============================] - ETA: 0s - loss: 0.9542 - sparse_categorical_accuracy: 0.5002\n",
            "Epoch 3: val_loss improved from 0.96630 to 0.94186, saving model to model.weights.hdf5\n",
            "566/566 [==============================] - 2s 3ms/step - loss: 0.9542 - sparse_categorical_accuracy: 0.5002 - val_loss: 0.9419 - val_sparse_categorical_accuracy: 0.4966\n",
            "425/425 [==============================] - 1s 2ms/step\n",
            "849/849 [==============================] - 2s 2ms/step\n"
          ]
        },
        {
          "output_type": "stream",
          "name": "stderr",
          "text": [
            "WARNING:absl:`lr` is deprecated in Keras optimizer, please use `learning_rate` or use the legacy optimizer, e.g.,tf.keras.optimizers.legacy.Adam.\n"
          ]
        },
        {
          "output_type": "stream",
          "name": "stdout",
          "text": [
            "[CV 1/3] END num_hidden=2, num_neurons=16, reg_param=0.002;, score=(train=0.500, test=0.500) total time=   8.0s\n",
            "Epoch 1/3\n",
            "552/566 [============================>.] - ETA: 0s - loss: 1.1643 - sparse_categorical_accuracy: 0.4534\n",
            "Epoch 1: val_loss improved from inf to 1.01114, saving model to model.weights.hdf5\n",
            "566/566 [==============================] - 3s 4ms/step - loss: 1.1605 - sparse_categorical_accuracy: 0.4549 - val_loss: 1.0111 - val_sparse_categorical_accuracy: 0.5001\n",
            "Epoch 2/3\n",
            " 71/566 [==>...........................] - ETA: 1s - loss: 0.9995 - sparse_categorical_accuracy: 0.5110"
          ]
        },
        {
          "output_type": "stream",
          "name": "stderr",
          "text": [
            "/usr/local/lib/python3.10/dist-packages/keras/src/engine/training.py:3103: UserWarning: You are saving your model as an HDF5 file via `model.save()`. This file format is considered legacy. We recommend using instead the native Keras format, e.g. `model.save('my_model.keras')`.\n",
            "  saving_api.save_model(\n"
          ]
        },
        {
          "output_type": "stream",
          "name": "stdout",
          "text": [
            "548/566 [============================>.] - ETA: 0s - loss: 0.9932 - sparse_categorical_accuracy: 0.4991\n",
            "Epoch 2: val_loss improved from 1.01114 to 0.95236, saving model to model.weights.hdf5\n",
            "566/566 [==============================] - 2s 4ms/step - loss: 0.9930 - sparse_categorical_accuracy: 0.4995 - val_loss: 0.9524 - val_sparse_categorical_accuracy: 0.4988\n",
            "Epoch 3/3\n",
            "555/566 [============================>.] - ETA: 0s - loss: 0.9530 - sparse_categorical_accuracy: 0.5026\n",
            "Epoch 3: val_loss improved from 0.95236 to 0.92781, saving model to model.weights.hdf5\n",
            "566/566 [==============================] - 2s 4ms/step - loss: 0.9528 - sparse_categorical_accuracy: 0.5028 - val_loss: 0.9278 - val_sparse_categorical_accuracy: 0.5064\n",
            "425/425 [==============================] - 1s 2ms/step\n",
            "849/849 [==============================] - 2s 2ms/step\n"
          ]
        },
        {
          "output_type": "stream",
          "name": "stderr",
          "text": [
            "WARNING:absl:`lr` is deprecated in Keras optimizer, please use `learning_rate` or use the legacy optimizer, e.g.,tf.keras.optimizers.legacy.Adam.\n"
          ]
        },
        {
          "output_type": "stream",
          "name": "stdout",
          "text": [
            "[CV 2/3] END num_hidden=2, num_neurons=16, reg_param=0.002;, score=(train=0.508, test=0.496) total time=   8.5s\n",
            "Epoch 1/3\n",
            "544/566 [===========================>..] - ETA: 0s - loss: 1.1632 - sparse_categorical_accuracy: 0.4381\n",
            "Epoch 1: val_loss improved from inf to 1.04491, saving model to model.weights.hdf5\n",
            "566/566 [==============================] - 3s 4ms/step - loss: 1.1593 - sparse_categorical_accuracy: 0.4389 - val_loss: 1.0449 - val_sparse_categorical_accuracy: 0.4781\n",
            "Epoch 2/3\n",
            " 73/566 [==>...........................] - ETA: 1s - loss: 1.0593 - sparse_categorical_accuracy: 0.4923"
          ]
        },
        {
          "output_type": "stream",
          "name": "stderr",
          "text": [
            "/usr/local/lib/python3.10/dist-packages/keras/src/engine/training.py:3103: UserWarning: You are saving your model as an HDF5 file via `model.save()`. This file format is considered legacy. We recommend using instead the native Keras format, e.g. `model.save('my_model.keras')`.\n",
            "  saving_api.save_model(\n"
          ]
        },
        {
          "output_type": "stream",
          "name": "stdout",
          "text": [
            "552/566 [============================>.] - ETA: 0s - loss: 1.0114 - sparse_categorical_accuracy: 0.4900\n",
            "Epoch 2: val_loss improved from 1.04491 to 0.99753, saving model to model.weights.hdf5\n",
            "566/566 [==============================] - 2s 3ms/step - loss: 1.0109 - sparse_categorical_accuracy: 0.4899 - val_loss: 0.9975 - val_sparse_categorical_accuracy: 0.4847\n",
            "Epoch 3/3\n",
            "548/566 [============================>.] - ETA: 0s - loss: 0.9727 - sparse_categorical_accuracy: 0.4981\n",
            "Epoch 3: val_loss improved from 0.99753 to 0.96973, saving model to model.weights.hdf5\n",
            "566/566 [==============================] - 2s 3ms/step - loss: 0.9727 - sparse_categorical_accuracy: 0.4991 - val_loss: 0.9697 - val_sparse_categorical_accuracy: 0.4923\n",
            "425/425 [==============================] - 1s 2ms/step\n",
            "849/849 [==============================] - 2s 2ms/step\n"
          ]
        },
        {
          "output_type": "stream",
          "name": "stderr",
          "text": [
            "WARNING:absl:`lr` is deprecated in Keras optimizer, please use `learning_rate` or use the legacy optimizer, e.g.,tf.keras.optimizers.legacy.Adam.\n"
          ]
        },
        {
          "output_type": "stream",
          "name": "stdout",
          "text": [
            "[CV 3/3] END num_hidden=2, num_neurons=16, reg_param=0.002;, score=(train=0.502, test=0.502) total time=  12.6s\n",
            "Epoch 1/3\n",
            "846/849 [============================>.] - ETA: 0s - loss: 1.0898 - sparse_categorical_accuracy: 0.4608\n",
            "Epoch 1: val_loss improved from inf to 0.98997, saving model to model.weights.hdf5\n",
            "849/849 [==============================] - 5s 5ms/step - loss: 1.0894 - sparse_categorical_accuracy: 0.4608 - val_loss: 0.9900 - val_sparse_categorical_accuracy: 0.4922\n",
            "Epoch 2/3\n",
            " 71/849 [=>............................] - ETA: 1s - loss: 0.9870 - sparse_categorical_accuracy: 0.5035"
          ]
        },
        {
          "output_type": "stream",
          "name": "stderr",
          "text": [
            "/usr/local/lib/python3.10/dist-packages/keras/src/engine/training.py:3103: UserWarning: You are saving your model as an HDF5 file via `model.save()`. This file format is considered legacy. We recommend using instead the native Keras format, e.g. `model.save('my_model.keras')`.\n",
            "  saving_api.save_model(\n"
          ]
        },
        {
          "output_type": "stream",
          "name": "stdout",
          "text": [
            "836/849 [============================>.] - ETA: 0s - loss: 0.9808 - sparse_categorical_accuracy: 0.4950\n",
            "Epoch 2: val_loss improved from 0.98997 to 0.95315, saving model to model.weights.hdf5\n",
            "849/849 [==============================] - 3s 4ms/step - loss: 0.9805 - sparse_categorical_accuracy: 0.4949 - val_loss: 0.9531 - val_sparse_categorical_accuracy: 0.5066\n",
            "Epoch 3/3\n",
            "841/849 [============================>.] - ETA: 0s - loss: 0.9553 - sparse_categorical_accuracy: 0.5025\n",
            "Epoch 3: val_loss improved from 0.95315 to 0.93358, saving model to model.weights.hdf5\n",
            "849/849 [==============================] - 6s 7ms/step - loss: 0.9551 - sparse_categorical_accuracy: 0.5025 - val_loss: 0.9336 - val_sparse_categorical_accuracy: 0.5081\n"
          ]
        }
      ]
    },
    {
      "cell_type": "code",
      "source": [
        "print('Best model parameters : ', best_params)"
      ],
      "metadata": {
        "colab": {
          "base_uri": "https://localhost:8080/"
        },
        "id": "pHKWtptdFP4Q",
        "outputId": "bf00c174-445f-48be-81b0-38a3d48302b3"
      },
      "execution_count": null,
      "outputs": [
        {
          "output_type": "stream",
          "name": "stdout",
          "text": [
            "Best model parameters :  {'num_hidden': 1, 'num_neurons': 16, 'reg_param': 0.0002}\n"
          ]
        }
      ]
    },
    {
      "cell_type": "markdown",
      "source": [
        "# Evaluate the best model"
      ],
      "metadata": {
        "id": "YxzYRg8AygDk"
      }
    },
    {
      "cell_type": "code",
      "source": [
        "# Build an ANN based on the best params set\n",
        "clf =  ANNClassifier(in_features=in_features, out_features=out_features, verbose=1, epochs=5, **best_params)\n",
        "clf.fit(X_train, Y_train)"
      ],
      "metadata": {
        "colab": {
          "base_uri": "https://localhost:8080/"
        },
        "id": "vKaiRkjtmbzC",
        "outputId": "d7ccfda8-0f79-499d-845f-c006e753a3d8"
      },
      "execution_count": null,
      "outputs": [
        {
          "output_type": "stream",
          "name": "stderr",
          "text": [
            "WARNING:absl:`lr` is deprecated in Keras optimizer, please use `learning_rate` or use the legacy optimizer, e.g.,tf.keras.optimizers.legacy.Adam.\n"
          ]
        },
        {
          "output_type": "stream",
          "name": "stdout",
          "text": [
            "Epoch 1/5\n",
            "842/849 [============================>.] - ETA: 0s - loss: 1.0635 - sparse_categorical_accuracy: 0.4963\n",
            "Epoch 1: val_loss improved from inf to 1.00425, saving model to model.weights.hdf5\n",
            "849/849 [==============================] - 3s 3ms/step - loss: 1.0625 - sparse_categorical_accuracy: 0.4970 - val_loss: 1.0043 - val_sparse_categorical_accuracy: 0.4986\n",
            "Epoch 2/5\n",
            " 74/849 [=>............................] - ETA: 1s - loss: 0.9949 - sparse_categorical_accuracy: 0.5084"
          ]
        },
        {
          "output_type": "stream",
          "name": "stderr",
          "text": [
            "/usr/local/lib/python3.10/dist-packages/keras/src/engine/training.py:3103: UserWarning: You are saving your model as an HDF5 file via `model.save()`. This file format is considered legacy. We recommend using instead the native Keras format, e.g. `model.save('my_model.keras')`.\n",
            "  saving_api.save_model(\n"
          ]
        },
        {
          "output_type": "stream",
          "name": "stdout",
          "text": [
            "831/849 [============================>.] - ETA: 0s - loss: 0.9708 - sparse_categorical_accuracy: 0.5140\n",
            "Epoch 2: val_loss improved from 1.00425 to 0.96728, saving model to model.weights.hdf5\n",
            "849/849 [==============================] - 2s 3ms/step - loss: 0.9703 - sparse_categorical_accuracy: 0.5138 - val_loss: 0.9673 - val_sparse_categorical_accuracy: 0.4980\n",
            "Epoch 3/5\n",
            "844/849 [============================>.] - ETA: 0s - loss: 0.9431 - sparse_categorical_accuracy: 0.5130\n",
            "Epoch 3: val_loss improved from 0.96728 to 0.94524, saving model to model.weights.hdf5\n",
            "849/849 [==============================] - 2s 3ms/step - loss: 0.9431 - sparse_categorical_accuracy: 0.5129 - val_loss: 0.9452 - val_sparse_categorical_accuracy: 0.4972\n",
            "Epoch 4/5\n",
            "847/849 [============================>.] - ETA: 0s - loss: 0.9261 - sparse_categorical_accuracy: 0.5119\n",
            "Epoch 4: val_loss improved from 0.94524 to 0.93048, saving model to model.weights.hdf5\n",
            "849/849 [==============================] - 3s 3ms/step - loss: 0.9260 - sparse_categorical_accuracy: 0.5121 - val_loss: 0.9305 - val_sparse_categorical_accuracy: 0.4997\n",
            "Epoch 5/5\n",
            "837/849 [============================>.] - ETA: 0s - loss: 0.9123 - sparse_categorical_accuracy: 0.5124\n",
            "Epoch 5: val_loss improved from 0.93048 to 0.91977, saving model to model.weights.hdf5\n",
            "849/849 [==============================] - 3s 4ms/step - loss: 0.9125 - sparse_categorical_accuracy: 0.5123 - val_loss: 0.9198 - val_sparse_categorical_accuracy: 0.4992\n"
          ]
        }
      ]
    },
    {
      "cell_type": "code",
      "source": [
        "# Make predictions on the testing set\n",
        "predictions = clf.predict(X_test)\n",
        "accuracy = accuracy_score(Y_test, predictions)\n",
        "\n",
        "print('Accuracy on testing set : ', accuracy)"
      ],
      "metadata": {
        "colab": {
          "base_uri": "https://localhost:8080/"
        },
        "id": "josnMlMimf6T",
        "outputId": "74240f03-c0aa-4943-9949-4fc4698f7d58"
      },
      "execution_count": null,
      "outputs": [
        {
          "output_type": "stream",
          "name": "stdout",
          "text": [
            "637/637 [==============================] - 1s 1ms/step\n",
            "Accuracy on testing set :  0.5080316353097215\n"
          ]
        }
      ]
    }
  ]
}